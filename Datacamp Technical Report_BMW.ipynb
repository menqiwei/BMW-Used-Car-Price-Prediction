{
 "cells": [
  {
   "cell_type": "markdown",
   "metadata": {},
   "source": [
    "## Datacamp Technical Report\n",
    "# BMW Used Car Price Prediction\n",
    "Qiwei Men, 03/29/2020\n",
    "\n",
    "----\n",
    "BMW is one of the best-selling premium brands in the world，in this project, I will conduct an exploratory data analysis of the BMW used car sale dataset, then build machine learning models to predict the price of used cars. We will also evaluate and compare the performance of these models.\n",
    "\n",
    "<img src=\"BMW.jpg\" style=\"width: 400px;\">\n",
    "\n",
    "\n",
    "In this project, I will go though these steps \n",
    "\n",
    "- **Part I: Data Analysis**\n",
    "\n",
    "- **[Importing Data from a File](#download-the-data)**\n",
    "    \n",
    "    - Take a quick look at the data structure\n",
    "    - Split data into training and testing set\n",
    "\n",
    "- **[Discover and Visualize the Data](#idiscover-and-visualize-the-data)**\n",
    "\n",
    "    - Find correlations\n",
    "    - Check Outliers with Boxplot     \n",
    "       \n",
    "- **[Regression Analysis with statsmodels](#regression-analysis)**\n",
    "    \n",
    "    - Build mltiple linear regression model\n",
    "    - Regression diagnostic\n",
    "    \n",
    "    \n",
    "- **Part II: Machine Learning with scikit-learn**\n",
    "\n",
    "- **[Prepare the data for Modeling](#prepare-the-data-for-modeling)**\n",
    "\n",
    "    - Clean the data\n",
    "    - Split the data into data and labels\n",
    "    - Standarize the numeric data\n",
    "    - One-Hot Encoding the categorical data\n",
    "    \n",
    "- **[Build Machine learning Models](#build-machine-learning-models)**\n",
    "\n",
    "    - Linear Regression Model\n",
    "    - Polynomial Regression Model\n",
    "    - RandomForest Regression Model\n",
    "    \n",
    "- **[Optimize Parameters with RandomSearch](#optimize-parameters)**\n",
    "\n",
    "\n",
    "- **[Evaluate the Optimized Model on testing data](#evaluate-model)**\n"
   ]
  },
  {
   "cell_type": "markdown",
   "metadata": {},
   "source": [
    "***"
   ]
  },
  {
   "cell_type": "code",
   "execution_count": 2,
   "metadata": {
    "scrolled": true
   },
   "outputs": [],
   "source": [
    "import pandas as pd # pandas is used to load and manipulate data and for One-Hot Encoding\n",
    "import numpy as np # data manipulation\n",
    "import matplotlib.pyplot as plt # matplotlib is for drawing graphs\n",
    "import seaborn as sns\n",
    "import statsmodels.api as sm\n",
    "import statsmodels.stats.api as sms\n",
    "from statsmodels.formula.api import ols\n",
    "from statsmodels.api import qqplot\n",
    "from sklearn.model_selection import train_test_split # split  data into training and testing sets\n",
    "from sklearn.preprocessing import OneHotEncoder\n",
    "from sklearn.preprocessing import StandardScaler\n",
    "from sklearn.linear_model import LinearRegression\n",
    "from sklearn.metrics import mean_squared_error\n",
    "from sklearn.metrics import r2_score\n",
    "from sklearn.ensemble import RandomForestRegressor\n",
    "from sklearn.model_selection import cross_val_score\n",
    "from sklearn.model_selection import RandomizedSearchCV"
   ]
  },
  {
   "cell_type": "markdown",
   "metadata": {},
   "source": [
    "-----"
   ]
  },
  {
   "cell_type": "markdown",
   "metadata": {},
   "source": [
    "<a id=\"download-the-data\"></a>\n",
    "# Part I :  Data Analysis\n",
    "# Import the data\n",
    "The very first thing we do is load in the dataset from the **[Datacamp GitHub](https://github.com/datacamp/careerhub-data)** .\n",
    "Specifically, we are going to use the **[BMW Used Car Sales](https://github.com/datacamp/careerhub-data/blob/master/BMW%20Used%20Car%20Sales/bmw.csv)** dataset. This dataset will allow us to predict the `price` of BMW cars based on their `model`, `year`, `transmission`, `mileage`, `fuelType`, `tax`, `mpg` and `engineSize`."
   ]
  },
  {
   "cell_type": "code",
   "execution_count": 3,
   "metadata": {},
   "outputs": [],
   "source": [
    "df = pd.read_csv(\"bmw.csv\") "
   ]
  },
  {
   "cell_type": "markdown",
   "metadata": {},
   "source": [
    "## Take a Quick Look at the Data Structure\n",
    "Now that we have loaded the data into a **data frame** called **df**, let's look at the first five rows using the `head()` function:"
   ]
  },
  {
   "cell_type": "code",
   "execution_count": 104,
   "metadata": {},
   "outputs": [
    {
     "data": {
      "text/html": [
       "<div>\n",
       "<style scoped>\n",
       "    .dataframe tbody tr th:only-of-type {\n",
       "        vertical-align: middle;\n",
       "    }\n",
       "\n",
       "    .dataframe tbody tr th {\n",
       "        vertical-align: top;\n",
       "    }\n",
       "\n",
       "    .dataframe thead th {\n",
       "        text-align: right;\n",
       "    }\n",
       "</style>\n",
       "<table border=\"1\" class=\"dataframe\">\n",
       "  <thead>\n",
       "    <tr style=\"text-align: right;\">\n",
       "      <th></th>\n",
       "      <th>model</th>\n",
       "      <th>year</th>\n",
       "      <th>price</th>\n",
       "      <th>transmission</th>\n",
       "      <th>mileage</th>\n",
       "      <th>fuelType</th>\n",
       "      <th>tax</th>\n",
       "      <th>mpg</th>\n",
       "      <th>engineSize</th>\n",
       "    </tr>\n",
       "  </thead>\n",
       "  <tbody>\n",
       "    <tr>\n",
       "      <th>0</th>\n",
       "      <td>5 Series</td>\n",
       "      <td>2014</td>\n",
       "      <td>11200</td>\n",
       "      <td>Automatic</td>\n",
       "      <td>67068</td>\n",
       "      <td>Diesel</td>\n",
       "      <td>125</td>\n",
       "      <td>57.6</td>\n",
       "      <td>2.0</td>\n",
       "    </tr>\n",
       "    <tr>\n",
       "      <th>1</th>\n",
       "      <td>6 Series</td>\n",
       "      <td>2018</td>\n",
       "      <td>27000</td>\n",
       "      <td>Automatic</td>\n",
       "      <td>14827</td>\n",
       "      <td>Petrol</td>\n",
       "      <td>145</td>\n",
       "      <td>42.8</td>\n",
       "      <td>2.0</td>\n",
       "    </tr>\n",
       "    <tr>\n",
       "      <th>2</th>\n",
       "      <td>5 Series</td>\n",
       "      <td>2016</td>\n",
       "      <td>16000</td>\n",
       "      <td>Automatic</td>\n",
       "      <td>62794</td>\n",
       "      <td>Diesel</td>\n",
       "      <td>160</td>\n",
       "      <td>51.4</td>\n",
       "      <td>3.0</td>\n",
       "    </tr>\n",
       "    <tr>\n",
       "      <th>3</th>\n",
       "      <td>1 Series</td>\n",
       "      <td>2017</td>\n",
       "      <td>12750</td>\n",
       "      <td>Automatic</td>\n",
       "      <td>26676</td>\n",
       "      <td>Diesel</td>\n",
       "      <td>145</td>\n",
       "      <td>72.4</td>\n",
       "      <td>1.5</td>\n",
       "    </tr>\n",
       "    <tr>\n",
       "      <th>4</th>\n",
       "      <td>7 Series</td>\n",
       "      <td>2014</td>\n",
       "      <td>14500</td>\n",
       "      <td>Automatic</td>\n",
       "      <td>39554</td>\n",
       "      <td>Diesel</td>\n",
       "      <td>160</td>\n",
       "      <td>50.4</td>\n",
       "      <td>3.0</td>\n",
       "    </tr>\n",
       "  </tbody>\n",
       "</table>\n",
       "</div>"
      ],
      "text/plain": [
       "       model  year  price transmission  mileage fuelType  tax   mpg  \\\n",
       "0   5 Series  2014  11200    Automatic    67068   Diesel  125  57.6   \n",
       "1   6 Series  2018  27000    Automatic    14827   Petrol  145  42.8   \n",
       "2   5 Series  2016  16000    Automatic    62794   Diesel  160  51.4   \n",
       "3   1 Series  2017  12750    Automatic    26676   Diesel  145  72.4   \n",
       "4   7 Series  2014  14500    Automatic    39554   Diesel  160  50.4   \n",
       "\n",
       "   engineSize  \n",
       "0         2.0  \n",
       "1         2.0  \n",
       "2         3.0  \n",
       "3         1.5  \n",
       "4         3.0  "
      ]
     },
     "execution_count": 104,
     "metadata": {},
     "output_type": "execute_result"
    }
   ],
   "source": [
    "df.head()"
   ]
  },
  {
   "cell_type": "markdown",
   "metadata": {},
   "source": [
    "We see a bunch of columns for the variables collected for each saled car. The columns are...\n",
    "- **model**, model of the car, 24 levels\n",
    "- **year**, Year of production, from 1996 to 2019\n",
    "- **price**, price of the car\n",
    "- **transmission**, transmission type of the car, 3 levels\n",
    "- **mileage**, The total miles traveled before selling\n",
    "- **fuelType**, How the car is powered, 5 levels\n",
    "- **tax**, tax charged\n",
    "- **mpg**, energy cost by miles per gallon\n",
    "- **engineSize**, eigine size of the car"
   ]
  },
  {
   "cell_type": "markdown",
   "metadata": {},
   "source": [
    "Then we can use the `info()` function to get a quick description of the data, like the total nmber of rows, each attribute's type, and the number of nonnull values."
   ]
  },
  {
   "cell_type": "code",
   "execution_count": 7,
   "metadata": {},
   "outputs": [
    {
     "name": "stdout",
     "output_type": "stream",
     "text": [
      "<class 'pandas.core.frame.DataFrame'>\n",
      "RangeIndex: 10781 entries, 0 to 10780\n",
      "Data columns (total 9 columns):\n",
      " #   Column        Non-Null Count  Dtype  \n",
      "---  ------        --------------  -----  \n",
      " 0   model         10781 non-null  object \n",
      " 1   year          10781 non-null  int64  \n",
      " 2   price         10781 non-null  int64  \n",
      " 3   transmission  10781 non-null  object \n",
      " 4   mileage       10781 non-null  int64  \n",
      " 5   fuelType      10781 non-null  object \n",
      " 6   tax           10781 non-null  int64  \n",
      " 7   mpg           10781 non-null  float64\n",
      " 8   engineSize    10781 non-null  float64\n",
      "dtypes: float64(2), int64(4), object(3)\n",
      "memory usage: 758.2+ KB\n"
     ]
    }
   ],
   "source": [
    "df.info()"
   ]
  },
  {
   "cell_type": "markdown",
   "metadata": {},
   "source": [
    "There are 10781 instances and 9 columns in the dataset, we also notice that there are no null entries, and the format of the entries are consistant. Clean data makes data analysis easier and saves a lot of time in data pre-processing.\n",
    "\n",
    "In these 9 attributes,  `year`, `price`, `mileage`, `tax`, `mpg` and `engineSize` are numerical attributes,  We can use the `df.describe()` function to check the  descriptive statistics of numeric data. "
   ]
  },
  {
   "cell_type": "code",
   "execution_count": 22,
   "metadata": {
    "scrolled": false
   },
   "outputs": [
    {
     "data": {
      "text/html": [
       "<div>\n",
       "<style scoped>\n",
       "    .dataframe tbody tr th:only-of-type {\n",
       "        vertical-align: middle;\n",
       "    }\n",
       "\n",
       "    .dataframe tbody tr th {\n",
       "        vertical-align: top;\n",
       "    }\n",
       "\n",
       "    .dataframe thead th {\n",
       "        text-align: right;\n",
       "    }\n",
       "</style>\n",
       "<table border=\"1\" class=\"dataframe\">\n",
       "  <thead>\n",
       "    <tr style=\"text-align: right;\">\n",
       "      <th></th>\n",
       "      <th>year</th>\n",
       "      <th>price</th>\n",
       "      <th>mileage</th>\n",
       "      <th>tax</th>\n",
       "      <th>mpg</th>\n",
       "      <th>engineSize</th>\n",
       "    </tr>\n",
       "  </thead>\n",
       "  <tbody>\n",
       "    <tr>\n",
       "      <th>count</th>\n",
       "      <td>10781.000000</td>\n",
       "      <td>10781.000000</td>\n",
       "      <td>10781.000000</td>\n",
       "      <td>10781.000000</td>\n",
       "      <td>10781.000000</td>\n",
       "      <td>10781.000000</td>\n",
       "    </tr>\n",
       "    <tr>\n",
       "      <th>mean</th>\n",
       "      <td>2017.078935</td>\n",
       "      <td>22733.408867</td>\n",
       "      <td>25496.986550</td>\n",
       "      <td>131.702068</td>\n",
       "      <td>56.399035</td>\n",
       "      <td>2.167767</td>\n",
       "    </tr>\n",
       "    <tr>\n",
       "      <th>std</th>\n",
       "      <td>2.349038</td>\n",
       "      <td>11415.528189</td>\n",
       "      <td>25143.192559</td>\n",
       "      <td>61.510755</td>\n",
       "      <td>31.336958</td>\n",
       "      <td>0.552054</td>\n",
       "    </tr>\n",
       "    <tr>\n",
       "      <th>min</th>\n",
       "      <td>1996.000000</td>\n",
       "      <td>1200.000000</td>\n",
       "      <td>1.000000</td>\n",
       "      <td>0.000000</td>\n",
       "      <td>5.500000</td>\n",
       "      <td>0.000000</td>\n",
       "    </tr>\n",
       "    <tr>\n",
       "      <th>25%</th>\n",
       "      <td>2016.000000</td>\n",
       "      <td>14950.000000</td>\n",
       "      <td>5529.000000</td>\n",
       "      <td>135.000000</td>\n",
       "      <td>45.600000</td>\n",
       "      <td>2.000000</td>\n",
       "    </tr>\n",
       "    <tr>\n",
       "      <th>50%</th>\n",
       "      <td>2017.000000</td>\n",
       "      <td>20462.000000</td>\n",
       "      <td>18347.000000</td>\n",
       "      <td>145.000000</td>\n",
       "      <td>53.300000</td>\n",
       "      <td>2.000000</td>\n",
       "    </tr>\n",
       "    <tr>\n",
       "      <th>75%</th>\n",
       "      <td>2019.000000</td>\n",
       "      <td>27940.000000</td>\n",
       "      <td>38206.000000</td>\n",
       "      <td>145.000000</td>\n",
       "      <td>62.800000</td>\n",
       "      <td>2.000000</td>\n",
       "    </tr>\n",
       "    <tr>\n",
       "      <th>max</th>\n",
       "      <td>2020.000000</td>\n",
       "      <td>123456.000000</td>\n",
       "      <td>214000.000000</td>\n",
       "      <td>580.000000</td>\n",
       "      <td>470.800000</td>\n",
       "      <td>6.600000</td>\n",
       "    </tr>\n",
       "  </tbody>\n",
       "</table>\n",
       "</div>"
      ],
      "text/plain": [
       "               year          price        mileage           tax           mpg  \\\n",
       "count  10781.000000   10781.000000   10781.000000  10781.000000  10781.000000   \n",
       "mean    2017.078935   22733.408867   25496.986550    131.702068     56.399035   \n",
       "std        2.349038   11415.528189   25143.192559     61.510755     31.336958   \n",
       "min     1996.000000    1200.000000       1.000000      0.000000      5.500000   \n",
       "25%     2016.000000   14950.000000    5529.000000    135.000000     45.600000   \n",
       "50%     2017.000000   20462.000000   18347.000000    145.000000     53.300000   \n",
       "75%     2019.000000   27940.000000   38206.000000    145.000000     62.800000   \n",
       "max     2020.000000  123456.000000  214000.000000    580.000000    470.800000   \n",
       "\n",
       "         engineSize  \n",
       "count  10781.000000  \n",
       "mean       2.167767  \n",
       "std        0.552054  \n",
       "min        0.000000  \n",
       "25%        2.000000  \n",
       "50%        2.000000  \n",
       "75%        2.000000  \n",
       "max        6.600000  "
      ]
     },
     "execution_count": 22,
     "metadata": {},
     "output_type": "execute_result"
    }
   ],
   "source": [
    "df.describe()"
   ]
  },
  {
   "cell_type": "markdown",
   "metadata": {},
   "source": [
    "Another quick way to get a feel of the type of data is to plot histogram for each numerical attribute."
   ]
  },
  {
   "cell_type": "code",
   "execution_count": 26,
   "metadata": {},
   "outputs": [
    {
     "data": {
      "image/png": "[encoded data removed]",
      "text/plain": [
       "<Figure size 864x432 with 6 Axes>"
      ]
     },
     "metadata": {
      "needs_background": "light"
     },
     "output_type": "display_data"
    }
   ],
   "source": [
    "fig, axes = plt.subplots(2, 3, figsize=(12, 6))\n",
    "sns.distplot(df['year'], ax=axes[0, 0], bins = 24)\n",
    "sns.distplot(df['price'], ax=axes[0, 1])\n",
    "sns.distplot(df['mileage'],ax=axes[0, 2])\n",
    "sns.distplot(df['tax'], ax=axes[1, 0],bins = 30)\n",
    "sns.distplot(df['mpg'], ax=axes[1, 1])\n",
    "sns.distplot(df['engineSize'], ax=axes[1, 2], kde=False)\n",
    "plt.show()"
   ]
  },
  {
   "cell_type": "markdown",
   "metadata": {},
   "source": [
    "There are few things we can notice in these histograms:\n",
    "1. The target value `price` is right skewed, in order to have a better result in the prediction, we need to do a log transformation.\n",
    "2. The `mileage` attribute is seriously right skewed, which means most of the cars did not drive long before they were sold.\n",
    "3. The `tax` mainly distribute between 100 and 200, there's also a lower peak between 0 and 50. The distribution of tax is very different fron price's, which means the tax charged does not purely depend on the price of the car, it may also depend on other factors like the state tax policy.\n",
    "4. Most cars have `engineSize` smaller than 3."
   ]
  },
  {
   "cell_type": "markdown",
   "metadata": {},
   "source": [
    "`model`, `transmission`, `fuelType` are categorical attributes. We can use `value_counts()` function to check what categories exist and how many cars belong to each category. For example, let's check how many cars belong to each `fuelType`."
   ]
  },
  {
   "cell_type": "code",
   "execution_count": 15,
   "metadata": {},
   "outputs": [
    {
     "data": {
      "text/plain": [
       "Diesel      7027\n",
       "Petrol      3417\n",
       "Hybrid       298\n",
       "Other         36\n",
       "Electric       3\n",
       "Name: fuelType, dtype: int64"
      ]
     },
     "execution_count": 15,
     "metadata": {},
     "output_type": "execute_result"
    }
   ],
   "source": [
    "df[\"fuelType\"].value_counts()"
   ]
  },
  {
   "cell_type": "markdown",
   "metadata": {},
   "source": [
    "Although electric has already become a trend in the automobile industry, BMW remains focused on the traditional energy vehicle market, we can see that most cars are powered by dissel or petrol. There are only 3 electric cars in the entire data, and they could be from the same model, so let's extract the information of these observations to see if this is the case。"
   ]
  },
  {
   "cell_type": "code",
   "execution_count": 18,
   "metadata": {},
   "outputs": [
    {
     "data": {
      "text/html": [
       "<div>\n",
       "<style scoped>\n",
       "    .dataframe tbody tr th:only-of-type {\n",
       "        vertical-align: middle;\n",
       "    }\n",
       "\n",
       "    .dataframe tbody tr th {\n",
       "        vertical-align: top;\n",
       "    }\n",
       "\n",
       "    .dataframe thead th {\n",
       "        text-align: right;\n",
       "    }\n",
       "</style>\n",
       "<table border=\"1\" class=\"dataframe\">\n",
       "  <thead>\n",
       "    <tr style=\"text-align: right;\">\n",
       "      <th></th>\n",
       "      <th>model</th>\n",
       "      <th>year</th>\n",
       "      <th>price</th>\n",
       "      <th>transmission</th>\n",
       "      <th>mileage</th>\n",
       "      <th>fuelType</th>\n",
       "      <th>tax</th>\n",
       "      <th>mpg</th>\n",
       "      <th>engineSize</th>\n",
       "    </tr>\n",
       "  </thead>\n",
       "  <tbody>\n",
       "    <tr>\n",
       "      <th>8375</th>\n",
       "      <td>i3</td>\n",
       "      <td>2017</td>\n",
       "      <td>18999</td>\n",
       "      <td>Automatic</td>\n",
       "      <td>20321</td>\n",
       "      <td>Electric</td>\n",
       "      <td>135</td>\n",
       "      <td>470.8</td>\n",
       "      <td>0.0</td>\n",
       "    </tr>\n",
       "    <tr>\n",
       "      <th>8400</th>\n",
       "      <td>i3</td>\n",
       "      <td>2016</td>\n",
       "      <td>18999</td>\n",
       "      <td>Automatic</td>\n",
       "      <td>9990</td>\n",
       "      <td>Electric</td>\n",
       "      <td>0</td>\n",
       "      <td>470.8</td>\n",
       "      <td>0.0</td>\n",
       "    </tr>\n",
       "    <tr>\n",
       "      <th>8835</th>\n",
       "      <td>i3</td>\n",
       "      <td>2015</td>\n",
       "      <td>17400</td>\n",
       "      <td>Automatic</td>\n",
       "      <td>29465</td>\n",
       "      <td>Electric</td>\n",
       "      <td>0</td>\n",
       "      <td>470.8</td>\n",
       "      <td>1.0</td>\n",
       "    </tr>\n",
       "  </tbody>\n",
       "</table>\n",
       "</div>"
      ],
      "text/plain": [
       "     model  year  price transmission  mileage  fuelType  tax    mpg  \\\n",
       "8375    i3  2017  18999    Automatic    20321  Electric  135  470.8   \n",
       "8400    i3  2016  18999    Automatic     9990  Electric    0  470.8   \n",
       "8835    i3  2015  17400    Automatic    29465  Electric    0  470.8   \n",
       "\n",
       "      engineSize  \n",
       "8375         0.0  \n",
       "8400         0.0  \n",
       "8835         1.0  "
      ]
     },
     "execution_count": 18,
     "metadata": {},
     "output_type": "execute_result"
    }
   ],
   "source": [
    "df[df[\"fuelType\"]==\"Electric\"]"
   ]
  },
  {
   "cell_type": "markdown",
   "metadata": {},
   "source": [
    "Our guess was right, the only ekectric model on sale is i3. Electric models only account for a very small percentage of overall sales, BMW seems to be lagging behind on this track compared to the rising electric car giants like Tesla."
   ]
  },
  {
   "cell_type": "markdown",
   "metadata": {},
   "source": [
    "Another way to check the distribution of categorical data is building barplots:"
   ]
  },
  {
   "cell_type": "code",
   "execution_count": 27,
   "metadata": {},
   "outputs": [
    {
     "data": {
      "text/plain": [
       "<matplotlib.axes._subplots.AxesSubplot at 0x149b6b0d1c0>"
      ]
     },
     "execution_count": 27,
     "metadata": {},
     "output_type": "execute_result"
    },
    {
     "data": {
      "image/png": "[encoded data removed]",
      "text/plain": [
       "<Figure size 864x216 with 3 Axes>"
      ]
     },
     "metadata": {
      "needs_background": "light"
     },
     "output_type": "display_data"
    }
   ],
   "source": [
    "fig, axes = plt.subplots(1, 3, figsize=(12, 3))\n",
    "ax = sns.countplot(x = \"model\", data = df, order = df['model'].value_counts().index, ax=axes[0])\n",
    "ax.set_xticklabels(ax.get_xticklabels(),rotation = 90)\n",
    "sns.countplot(x ='transmission', data = df,  order = df['transmission'].value_counts().index, ax=axes[1])\n",
    "sns.countplot(x ='fuelType', data = df, order = df['fuelType'].value_counts().index, ax=axes[2])"
   ]
  },
  {
   "cell_type": "markdown",
   "metadata": {},
   "source": [
    "From the barplots we can see that:\n",
    "1. The best-selling `model` are classical 1-5 Series\n",
    "2. Cars with Semi-Auto and Auto `transmission` are more popular than cars with manual transmission\n",
    "3. In terms of `fuelType`，Most cars are powered by dissel or petrol"
   ]
  },
  {
   "cell_type": "markdown",
   "metadata": {},
   "source": [
    "## Split Data into Training and Testing set\n",
    "Before we do a further investigation, we need to split the data into training part and testing part, the training part is used for training the model, the testing data is used for testing the performance of the model. In this project, we will use 30% of the data for testing."
   ]
  },
  {
   "cell_type": "code",
   "execution_count": 100,
   "metadata": {},
   "outputs": [],
   "source": [
    "train, test = train_test_split(df, test_size = 0.3, random_state = 72, stratify = df[\"model\"])"
   ]
  },
  {
   "cell_type": "markdown",
   "metadata": {},
   "source": [
    "Note: Since we need both the training and testing set include all the models, so we can make prediction of a new instance in any model, so we set the argument `stratify='model'`."
   ]
  },
  {
   "cell_type": "code",
   "execution_count": 101,
   "metadata": {},
   "outputs": [
    {
     "data": {
      "text/plain": [
       "(7546, 9)"
      ]
     },
     "execution_count": 101,
     "metadata": {},
     "output_type": "execute_result"
    }
   ],
   "source": [
    "train.shape"
   ]
  },
  {
   "cell_type": "code",
   "execution_count": 102,
   "metadata": {},
   "outputs": [
    {
     "data": {
      "text/plain": [
       "(3235, 9)"
      ]
     },
     "execution_count": 102,
     "metadata": {},
     "output_type": "execute_result"
    }
   ],
   "source": [
    "test.shape"
   ]
  },
  {
   "cell_type": "markdown",
   "metadata": {},
   "source": [
    "The data is splited successfully!"
   ]
  },
  {
   "cell_type": "markdown",
   "metadata": {},
   "source": [
    "----"
   ]
  },
  {
   "cell_type": "markdown",
   "metadata": {},
   "source": [
    "<a id=\"discover-and-visualize-the-data\"></a>\n",
    "# Discover and Visualize the Data \n",
    "So far, we have only taken a quick glance at the data to get a general understanding, now the goal is to go into a little more depth. In this part, we will conduct a explortary analysis on the data, this is also a necessary preparation for the modeling works in the next step. \n",
    "\n",
    "In this part, we put the test aside and only explore the training set, we creat a copy named bmw, so that we can play with it without harming the training set."
   ]
  },
  {
   "cell_type": "code",
   "execution_count": 76,
   "metadata": {},
   "outputs": [],
   "source": [
    "bmw = train.copy()"
   ]
  },
  {
   "cell_type": "markdown",
   "metadata": {},
   "source": [
    "## Looking for Correlations\n",
    "Since the data set is not too large, we can easily compute the standard correlation coefficient between every pair of attributes using `corr()` method:"
   ]
  },
  {
   "cell_type": "code",
   "execution_count": 29,
   "metadata": {},
   "outputs": [
    {
     "data": {
      "text/html": [
       "<div>\n",
       "<style scoped>\n",
       "    .dataframe tbody tr th:only-of-type {\n",
       "        vertical-align: middle;\n",
       "    }\n",
       "\n",
       "    .dataframe tbody tr th {\n",
       "        vertical-align: top;\n",
       "    }\n",
       "\n",
       "    .dataframe thead th {\n",
       "        text-align: right;\n",
       "    }\n",
       "</style>\n",
       "<table border=\"1\" class=\"dataframe\">\n",
       "  <thead>\n",
       "    <tr style=\"text-align: right;\">\n",
       "      <th></th>\n",
       "      <th>year</th>\n",
       "      <th>price</th>\n",
       "      <th>mileage</th>\n",
       "      <th>tax</th>\n",
       "      <th>mpg</th>\n",
       "      <th>engineSize</th>\n",
       "      <th>log_price</th>\n",
       "    </tr>\n",
       "  </thead>\n",
       "  <tbody>\n",
       "    <tr>\n",
       "      <th>year</th>\n",
       "      <td>1.000000</td>\n",
       "      <td>0.625621</td>\n",
       "      <td>-0.780979</td>\n",
       "      <td>0.005143</td>\n",
       "      <td>-0.066922</td>\n",
       "      <td>-0.032303</td>\n",
       "      <td>0.775380</td>\n",
       "    </tr>\n",
       "    <tr>\n",
       "      <th>price</th>\n",
       "      <td>0.625621</td>\n",
       "      <td>1.000000</td>\n",
       "      <td>-0.606931</td>\n",
       "      <td>0.250127</td>\n",
       "      <td>-0.199308</td>\n",
       "      <td>0.453891</td>\n",
       "      <td>0.932110</td>\n",
       "    </tr>\n",
       "    <tr>\n",
       "      <th>mileage</th>\n",
       "      <td>-0.780979</td>\n",
       "      <td>-0.606931</td>\n",
       "      <td>1.000000</td>\n",
       "      <td>-0.142991</td>\n",
       "      <td>0.112978</td>\n",
       "      <td>-0.002354</td>\n",
       "      <td>-0.737466</td>\n",
       "    </tr>\n",
       "    <tr>\n",
       "      <th>tax</th>\n",
       "      <td>0.005143</td>\n",
       "      <td>0.250127</td>\n",
       "      <td>-0.142991</td>\n",
       "      <td>1.000000</td>\n",
       "      <td>-0.348428</td>\n",
       "      <td>0.427828</td>\n",
       "      <td>0.275289</td>\n",
       "    </tr>\n",
       "    <tr>\n",
       "      <th>mpg</th>\n",
       "      <td>-0.066922</td>\n",
       "      <td>-0.199308</td>\n",
       "      <td>0.112978</td>\n",
       "      <td>-0.348428</td>\n",
       "      <td>1.000000</td>\n",
       "      <td>-0.396684</td>\n",
       "      <td>-0.173018</td>\n",
       "    </tr>\n",
       "    <tr>\n",
       "      <th>engineSize</th>\n",
       "      <td>-0.032303</td>\n",
       "      <td>0.453891</td>\n",
       "      <td>-0.002354</td>\n",
       "      <td>0.427828</td>\n",
       "      <td>-0.396684</td>\n",
       "      <td>1.000000</td>\n",
       "      <td>0.392937</td>\n",
       "    </tr>\n",
       "    <tr>\n",
       "      <th>log_price</th>\n",
       "      <td>0.775380</td>\n",
       "      <td>0.932110</td>\n",
       "      <td>-0.737466</td>\n",
       "      <td>0.275289</td>\n",
       "      <td>-0.173018</td>\n",
       "      <td>0.392937</td>\n",
       "      <td>1.000000</td>\n",
       "    </tr>\n",
       "  </tbody>\n",
       "</table>\n",
       "</div>"
      ],
      "text/plain": [
       "                year     price   mileage       tax       mpg  engineSize  \\\n",
       "year        1.000000  0.625621 -0.780979  0.005143 -0.066922   -0.032303   \n",
       "price       0.625621  1.000000 -0.606931  0.250127 -0.199308    0.453891   \n",
       "mileage    -0.780979 -0.606931  1.000000 -0.142991  0.112978   -0.002354   \n",
       "tax         0.005143  0.250127 -0.142991  1.000000 -0.348428    0.427828   \n",
       "mpg        -0.066922 -0.199308  0.112978 -0.348428  1.000000   -0.396684   \n",
       "engineSize -0.032303  0.453891 -0.002354  0.427828 -0.396684    1.000000   \n",
       "log_price   0.775380  0.932110 -0.737466  0.275289 -0.173018    0.392937   \n",
       "\n",
       "            log_price  \n",
       "year         0.775380  \n",
       "price        0.932110  \n",
       "mileage     -0.737466  \n",
       "tax          0.275289  \n",
       "mpg         -0.173018  \n",
       "engineSize   0.392937  \n",
       "log_price    1.000000  "
      ]
     },
     "execution_count": 29,
     "metadata": {},
     "output_type": "execute_result"
    }
   ],
   "source": [
    "corr_matrix = bmw.corr()\n",
    "corr_matrix"
   ]
  },
  {
   "cell_type": "markdown",
   "metadata": {},
   "source": [
    "We can also plot a heatmap of the correlation coefficient"
   ]
  },
  {
   "cell_type": "code",
   "execution_count": 63,
   "metadata": {
    "scrolled": true
   },
   "outputs": [
    {
     "data": {
      "image/png": "[encoded data removed]",
      "text/plain": [
       "<Figure size 432x288 with 2 Axes>"
      ]
     },
     "metadata": {
      "needs_background": "light"
     },
     "output_type": "display_data"
    }
   ],
   "source": [
    "sns.heatmap(corr_matrix,cmap=\"YlGnBu\")\n",
    "plt.show()"
   ]
  },
  {
   "cell_type": "markdown",
   "metadata": {},
   "source": [
    "Pairplot is another useful way to investigate the relationship between numeric attributes."
   ]
  },
  {
   "cell_type": "code",
   "execution_count": 78,
   "metadata": {},
   "outputs": [
    {
     "data": {
      "image/png": "[encoded data removed]",
      "text/plain": [
       "<Figure size 576x576 with 42 Axes>"
      ]
     },
     "metadata": {
      "needs_background": "light"
     },
     "output_type": "display_data"
    }
   ],
   "source": [
    "g = sns.pairplot(bmw)\n",
    "g.fig.set_size_inches(8,8)\n",
    "plt.show()"
   ]
  },
  {
   "cell_type": "markdown",
   "metadata": {},
   "source": [
    "From the heatmap and pairplot, we can see that there's a strong postive corrolation between `price` and `year`, there's also a strong negative corrolation between `price` and `mileage`, so if we want to build a model for predicting price, the most promising attributes are `year` and `mileage`."
   ]
  },
  {
   "cell_type": "markdown",
   "metadata": {},
   "source": [
    "## Check Outliers with Boxplot\n",
    "As we know, the price of a car depends not only on the mileage and year of manufacture, but also on its model, some models are luxurious and some are more economical. We can find out the price range of different models by creating boxplot."
   ]
  },
  {
   "cell_type": "code",
   "execution_count": 37,
   "metadata": {},
   "outputs": [
    {
     "data": {
      "image/png": "[encoded data removed]",
      "text/plain": [
       "<Figure size 864x360 with 1 Axes>"
      ]
     },
     "metadata": {
      "needs_background": "light"
     },
     "output_type": "display_data"
    }
   ],
   "source": [
    "fig, ax = plt.subplots(figsize=(12,5))\n",
    "sns.boxplot(x=\"model\", y=\"price\", data=bmw)\n",
    "ax.set_xticklabels(ax.get_xticklabels(),rotation = 45)\n",
    "plt.show()"
   ]
  },
  {
   "cell_type": "markdown",
   "metadata": {},
   "source": [
    "From the boxplot above, we can see that the price varies alot across different models. Models like X7, M5 and 8 Series are more expensive than others，on the other hand, the only eletric model i3 is not as expensive as we thought, which only costs about $20000."
   ]
  },
  {
   "cell_type": "markdown",
   "metadata": {},
   "source": [
    "From the boxplot, we also notice that the price of one observation in 2 Series is unusually high, Let's check what's causing the price abnormality."
   ]
  },
  {
   "cell_type": "code",
   "execution_count": 66,
   "metadata": {},
   "outputs": [
    {
     "data": {
      "text/html": [
       "<div>\n",
       "<style scoped>\n",
       "    .dataframe tbody tr th:only-of-type {\n",
       "        vertical-align: middle;\n",
       "    }\n",
       "\n",
       "    .dataframe tbody tr th {\n",
       "        vertical-align: top;\n",
       "    }\n",
       "\n",
       "    .dataframe thead th {\n",
       "        text-align: right;\n",
       "    }\n",
       "</style>\n",
       "<table border=\"1\" class=\"dataframe\">\n",
       "  <thead>\n",
       "    <tr style=\"text-align: right;\">\n",
       "      <th></th>\n",
       "      <th>model</th>\n",
       "      <th>year</th>\n",
       "      <th>price</th>\n",
       "      <th>transmission</th>\n",
       "      <th>mileage</th>\n",
       "      <th>fuelType</th>\n",
       "      <th>tax</th>\n",
       "      <th>mpg</th>\n",
       "      <th>engineSize</th>\n",
       "    </tr>\n",
       "  </thead>\n",
       "  <tbody>\n",
       "    <tr>\n",
       "      <th>3638</th>\n",
       "      <td>2 Series</td>\n",
       "      <td>2015</td>\n",
       "      <td>123456</td>\n",
       "      <td>Semi-Auto</td>\n",
       "      <td>33419</td>\n",
       "      <td>Diesel</td>\n",
       "      <td>20</td>\n",
       "      <td>68.9</td>\n",
       "      <td>2.0</td>\n",
       "    </tr>\n",
       "  </tbody>\n",
       "</table>\n",
       "</div>"
      ],
      "text/plain": [
       "          model  year   price transmission  mileage fuelType  tax   mpg  \\\n",
       "3638   2 Series  2015  123456    Semi-Auto    33419   Diesel   20  68.9   \n",
       "\n",
       "      engineSize  \n",
       "3638         2.0  "
      ]
     },
     "execution_count": 66,
     "metadata": {},
     "output_type": "execute_result"
    }
   ],
   "source": [
    "bmw[bmw['price']>100000]"
   ]
  },
  {
   "cell_type": "markdown",
   "metadata": {},
   "source": [
    "We find that this observation is an 2-Series model with price 123456, it doesn't look like a real price, but like a human error. So this observation needs to be removed."
   ]
  },
  {
   "cell_type": "code",
   "execution_count": 72,
   "metadata": {},
   "outputs": [],
   "source": [
    "bmw = bmw[bmw['price']<100000]"
   ]
  },
  {
   "cell_type": "markdown",
   "metadata": {},
   "source": [
    "----"
   ]
  },
  {
   "cell_type": "markdown",
   "metadata": {},
   "source": [
    "<a id=\"regression-analysis\"></a>\n",
    "# Regression Analysis with statsmodels\n",
    "\n",
    "**statsmodels** is a Python module that provides classes and functions for the estimation of many different statistical models, as well as for conducting statistical tests, and statistical data exploration. In this section, we will use statsmodels to built a Ordinary Least Squares(ols) model and conduct regression analysis."
   ]
  },
  {
   "cell_type": "markdown",
   "metadata": {},
   "source": [
    "## Build a Simple Linear Regression Model\n",
    "In the last section, we saw that some attributes like `mileage` and `year` have linear relationship with `price_log`, other categorical attributes like `model` also infulence the `price`. In this section, we firstly build a simple linear regression model with only one attribute `year`."
   ]
  },
  {
   "cell_type": "markdown",
   "metadata": {},
   "source": [
    "As we have seen in the last section, the distribution of `price` is right skewed, in this condition, we can conduct a log transformation to make it as “normal” as possible so that the statistical analysis results from this data become more valid. "
   ]
  },
  {
   "cell_type": "code",
   "execution_count": 84,
   "metadata": {},
   "outputs": [],
   "source": [
    "bmw[\"log_price\"] = np.log(bmw[\"price\"])"
   ]
  },
  {
   "cell_type": "code",
   "execution_count": 91,
   "metadata": {},
   "outputs": [
    {
     "data": {
      "image/png": "[encoded data removed]",
      "text/plain": [
       "<Figure size 864x288 with 2 Axes>"
      ]
     },
     "metadata": {
      "needs_background": "light"
     },
     "output_type": "display_data"
    }
   ],
   "source": [
    "fig, axes = plt.subplots(1, 2, figsize=(12, 4))\n",
    "ax = sns.scatterplot(x = \"year\", y = \"price\",data = bmw, alpha = 0.8, ax=axes[0])\n",
    "ax.set_xticklabels(ax.get_xticklabels(),rotation = 90)\n",
    "sns.regplot(x ='year', y = \"log_price\", data = bmw, ax=axes[1])\n",
    "plt.show()"
   ]
  },
  {
   "cell_type": "markdown",
   "metadata": {},
   "source": [
    "After the transformation, the linear relationship between `year`, `mileage` and `log_price` has become stronger. Now, let's build the model."
   ]
  },
  {
   "cell_type": "code",
   "execution_count": 62,
   "metadata": {},
   "outputs": [
    {
     "data": {
      "text/html": [
       "<table class=\"simpletable\">\n",
       "<caption>OLS Regression Results</caption>\n",
       "<tr>\n",
       "  <th>Dep. Variable:</th>        <td>log_price</td>    <th>  R-squared:         </th> <td>   0.603</td> \n",
       "</tr>\n",
       "<tr>\n",
       "  <th>Model:</th>                   <td>OLS</td>       <th>  Adj. R-squared:    </th> <td>   0.603</td> \n",
       "</tr>\n",
       "<tr>\n",
       "  <th>Method:</th>             <td>Least Squares</td>  <th>  F-statistic:       </th> <td>1.146e+04</td>\n",
       "</tr>\n",
       "<tr>\n",
       "  <th>Date:</th>             <td>Mon, 05 Apr 2021</td> <th>  Prob (F-statistic):</th>  <td>  0.00</td>  \n",
       "</tr>\n",
       "<tr>\n",
       "  <th>Time:</th>                 <td>01:43:50</td>     <th>  Log-Likelihood:    </th> <td> -1779.1</td> \n",
       "</tr>\n",
       "<tr>\n",
       "  <th>No. Observations:</th>      <td>  7545</td>      <th>  AIC:               </th> <td>   3562.</td> \n",
       "</tr>\n",
       "<tr>\n",
       "  <th>Df Residuals:</th>          <td>  7543</td>      <th>  BIC:               </th> <td>   3576.</td> \n",
       "</tr>\n",
       "<tr>\n",
       "  <th>Df Model:</th>              <td>     1</td>      <th>                     </th>     <td> </td>    \n",
       "</tr>\n",
       "<tr>\n",
       "  <th>Covariance Type:</th>      <td>nonrobust</td>    <th>                     </th>     <td> </td>    \n",
       "</tr>\n",
       "</table>\n",
       "<table class=\"simpletable\">\n",
       "<tr>\n",
       "      <td></td>         <th>coef</th>     <th>std err</th>      <th>t</th>      <th>P>|t|</th>  <th>[0.025</th>    <th>0.975]</th>  \n",
       "</tr>\n",
       "<tr>\n",
       "  <th>Intercept</th> <td> -309.8311</td> <td>    2.987</td> <td> -103.726</td> <td> 0.000</td> <td> -315.686</td> <td> -303.976</td>\n",
       "</tr>\n",
       "<tr>\n",
       "  <th>year</th>      <td>    0.1585</td> <td>    0.001</td> <td>  107.045</td> <td> 0.000</td> <td>    0.156</td> <td>    0.161</td>\n",
       "</tr>\n",
       "</table>\n",
       "<table class=\"simpletable\">\n",
       "<tr>\n",
       "  <th>Omnibus:</th>       <td>1029.128</td> <th>  Durbin-Watson:     </th> <td>   2.018</td>\n",
       "</tr>\n",
       "<tr>\n",
       "  <th>Prob(Omnibus):</th>  <td> 0.000</td>  <th>  Jarque-Bera (JB):  </th> <td>2173.533</td>\n",
       "</tr>\n",
       "<tr>\n",
       "  <th>Skew:</th>           <td> 0.829</td>  <th>  Prob(JB):          </th> <td>    0.00</td>\n",
       "</tr>\n",
       "<tr>\n",
       "  <th>Kurtosis:</th>       <td> 5.041</td>  <th>  Cond. No.          </th> <td>1.71e+06</td>\n",
       "</tr>\n",
       "</table><br/><br/>Warnings:<br/>[1] Standard Errors assume that the covariance matrix of the errors is correctly specified.<br/>[2] The condition number is large, 1.71e+06. This might indicate that there are<br/>strong multicollinearity or other numerical problems."
      ],
      "text/plain": [
       "<class 'statsmodels.iolib.summary.Summary'>\n",
       "\"\"\"\n",
       "                            OLS Regression Results                            \n",
       "==============================================================================\n",
       "Dep. Variable:              log_price   R-squared:                       0.603\n",
       "Model:                            OLS   Adj. R-squared:                  0.603\n",
       "Method:                 Least Squares   F-statistic:                 1.146e+04\n",
       "Date:                Mon, 05 Apr 2021   Prob (F-statistic):               0.00\n",
       "Time:                        01:43:50   Log-Likelihood:                -1779.1\n",
       "No. Observations:                7545   AIC:                             3562.\n",
       "Df Residuals:                    7543   BIC:                             3576.\n",
       "Df Model:                           1                                         \n",
       "Covariance Type:            nonrobust                                         \n",
       "==============================================================================\n",
       "                 coef    std err          t      P>|t|      [0.025      0.975]\n",
       "------------------------------------------------------------------------------\n",
       "Intercept   -309.8311      2.987   -103.726      0.000    -315.686    -303.976\n",
       "year           0.1585      0.001    107.045      0.000       0.156       0.161\n",
       "==============================================================================\n",
       "Omnibus:                     1029.128   Durbin-Watson:                   2.018\n",
       "Prob(Omnibus):                  0.000   Jarque-Bera (JB):             2173.533\n",
       "Skew:                           0.829   Prob(JB):                         0.00\n",
       "Kurtosis:                       5.041   Cond. No.                     1.71e+06\n",
       "==============================================================================\n",
       "\n",
       "Warnings:\n",
       "[1] Standard Errors assume that the covariance matrix of the errors is correctly specified.\n",
       "[2] The condition number is large, 1.71e+06. This might indicate that there are\n",
       "strong multicollinearity or other numerical problems.\n",
       "\"\"\""
      ]
     },
     "execution_count": 62,
     "metadata": {},
     "output_type": "execute_result"
    }
   ],
   "source": [
    "reg_model_simple = ols(\"log_price ~  year\", data=bmw).fit()\n",
    "reg_model_simple.summary()"
   ]
  },
  {
   "cell_type": "markdown",
   "metadata": {},
   "source": [
    "- The cofficient of determination R squared is quite good for a one variable regression at 0.603, the test for the significance of the model rejects the null hypothesis of no linear dependence between `log_price` with `year` with very small p value.\n",
    "- The coefficient of year is positive, this implies that with one unit increase in `year`, the `log_price` is expeccted to increase by 0.158\n",
    "- For example, if we want to predict the price of a car made in 2020, we can calculate the price as: log_price = 309.83 + 2020*0.1585 = 10.34, price = exp(10.34) = 30946.03"
   ]
  },
  {
   "cell_type": "markdown",
   "metadata": {},
   "source": [
    "## Build a Mulitiple Linear Regression Model\n",
    "The perfoormance of simple linear regression model with only one variable is limitted, in order to improve the degre of acccuracy, we need to add other variables and build a mulitiple regression."
   ]
  },
  {
   "cell_type": "code",
   "execution_count": 92,
   "metadata": {},
   "outputs": [
    {
     "data": {
      "text/html": [
       "<table class=\"simpletable\">\n",
       "<caption>OLS Regression Results</caption>\n",
       "<tr>\n",
       "  <th>Dep. Variable:</th>        <td>log_price</td>    <th>  R-squared:         </th> <td>   0.933</td>\n",
       "</tr>\n",
       "<tr>\n",
       "  <th>Model:</th>                   <td>OLS</td>       <th>  Adj. R-squared:    </th> <td>   0.933</td>\n",
       "</tr>\n",
       "<tr>\n",
       "  <th>Method:</th>             <td>Least Squares</td>  <th>  F-statistic:       </th> <td>   3101.</td>\n",
       "</tr>\n",
       "<tr>\n",
       "  <th>Date:</th>             <td>Mon, 05 Apr 2021</td> <th>  Prob (F-statistic):</th>  <td>  0.00</td> \n",
       "</tr>\n",
       "<tr>\n",
       "  <th>Time:</th>                 <td>05:11:02</td>     <th>  Log-Likelihood:    </th> <td>  4954.7</td>\n",
       "</tr>\n",
       "<tr>\n",
       "  <th>No. Observations:</th>      <td>  7546</td>      <th>  AIC:               </th> <td>  -9839.</td>\n",
       "</tr>\n",
       "<tr>\n",
       "  <th>Df Residuals:</th>          <td>  7511</td>      <th>  BIC:               </th> <td>  -9597.</td>\n",
       "</tr>\n",
       "<tr>\n",
       "  <th>Df Model:</th>              <td>    34</td>      <th>                     </th>     <td> </td>   \n",
       "</tr>\n",
       "<tr>\n",
       "  <th>Covariance Type:</th>      <td>nonrobust</td>    <th>                     </th>     <td> </td>   \n",
       "</tr>\n",
       "</table>\n",
       "<table class=\"simpletable\">\n",
       "<tr>\n",
       "              <td></td>                 <th>coef</th>     <th>std err</th>      <th>t</th>      <th>P>|t|</th>  <th>[0.025</th>    <th>0.975]</th>  \n",
       "</tr>\n",
       "<tr>\n",
       "  <th>Intercept</th>                 <td> -199.4020</td> <td>    2.151</td> <td>  -92.706</td> <td> 0.000</td> <td> -203.618</td> <td> -195.186</td>\n",
       "</tr>\n",
       "<tr>\n",
       "  <th>model[T. 2 Series]</th>        <td>    0.0225</td> <td>    0.006</td> <td>    4.017</td> <td> 0.000</td> <td>    0.012</td> <td>    0.034</td>\n",
       "</tr>\n",
       "<tr>\n",
       "  <th>model[T. 3 Series]</th>        <td>    0.1177</td> <td>    0.005</td> <td>   23.851</td> <td> 0.000</td> <td>    0.108</td> <td>    0.127</td>\n",
       "</tr>\n",
       "<tr>\n",
       "  <th>model[T. 4 Series]</th>        <td>    0.1519</td> <td>    0.006</td> <td>   24.484</td> <td> 0.000</td> <td>    0.140</td> <td>    0.164</td>\n",
       "</tr>\n",
       "<tr>\n",
       "  <th>model[T. 5 Series]</th>        <td>    0.1984</td> <td>    0.006</td> <td>   31.313</td> <td> 0.000</td> <td>    0.186</td> <td>    0.211</td>\n",
       "</tr>\n",
       "<tr>\n",
       "  <th>model[T. 6 Series]</th>        <td>    0.2547</td> <td>    0.015</td> <td>   16.466</td> <td> 0.000</td> <td>    0.224</td> <td>    0.285</td>\n",
       "</tr>\n",
       "<tr>\n",
       "  <th>model[T. 7 Series]</th>        <td>    0.4372</td> <td>    0.016</td> <td>   27.754</td> <td> 0.000</td> <td>    0.406</td> <td>    0.468</td>\n",
       "</tr>\n",
       "<tr>\n",
       "  <th>model[T. 8 Series]</th>        <td>    0.6944</td> <td>    0.025</td> <td>   27.663</td> <td> 0.000</td> <td>    0.645</td> <td>    0.744</td>\n",
       "</tr>\n",
       "<tr>\n",
       "  <th>model[T. M2]</th>              <td>    0.4151</td> <td>    0.033</td> <td>   12.566</td> <td> 0.000</td> <td>    0.350</td> <td>    0.480</td>\n",
       "</tr>\n",
       "<tr>\n",
       "  <th>model[T. M3]</th>              <td>    0.7962</td> <td>    0.030</td> <td>   26.558</td> <td> 0.000</td> <td>    0.737</td> <td>    0.855</td>\n",
       "</tr>\n",
       "<tr>\n",
       "  <th>model[T. M4]</th>              <td>    0.5115</td> <td>    0.015</td> <td>   34.954</td> <td> 0.000</td> <td>    0.483</td> <td>    0.540</td>\n",
       "</tr>\n",
       "<tr>\n",
       "  <th>model[T. M5]</th>              <td>    0.5637</td> <td>    0.030</td> <td>   18.934</td> <td> 0.000</td> <td>    0.505</td> <td>    0.622</td>\n",
       "</tr>\n",
       "<tr>\n",
       "  <th>model[T. M6]</th>              <td>    0.4206</td> <td>    0.053</td> <td>    7.912</td> <td> 0.000</td> <td>    0.316</td> <td>    0.525</td>\n",
       "</tr>\n",
       "<tr>\n",
       "  <th>model[T. X1]</th>              <td>    0.1450</td> <td>    0.007</td> <td>   22.205</td> <td> 0.000</td> <td>    0.132</td> <td>    0.158</td>\n",
       "</tr>\n",
       "<tr>\n",
       "  <th>model[T. X2]</th>              <td>    0.1658</td> <td>    0.010</td> <td>   16.847</td> <td> 0.000</td> <td>    0.147</td> <td>    0.185</td>\n",
       "</tr>\n",
       "<tr>\n",
       "  <th>model[T. X3]</th>              <td>    0.3345</td> <td>    0.008</td> <td>   42.268</td> <td> 0.000</td> <td>    0.319</td> <td>    0.350</td>\n",
       "</tr>\n",
       "<tr>\n",
       "  <th>model[T. X4]</th>              <td>    0.3682</td> <td>    0.012</td> <td>   29.740</td> <td> 0.000</td> <td>    0.344</td> <td>    0.392</td>\n",
       "</tr>\n",
       "<tr>\n",
       "  <th>model[T. X5]</th>              <td>    0.5429</td> <td>    0.009</td> <td>   59.014</td> <td> 0.000</td> <td>    0.525</td> <td>    0.561</td>\n",
       "</tr>\n",
       "<tr>\n",
       "  <th>model[T. X6]</th>              <td>    0.5446</td> <td>    0.016</td> <td>   34.421</td> <td> 0.000</td> <td>    0.514</td> <td>    0.576</td>\n",
       "</tr>\n",
       "<tr>\n",
       "  <th>model[T. X7]</th>              <td>    0.8396</td> <td>    0.022</td> <td>   39.032</td> <td> 0.000</td> <td>    0.797</td> <td>    0.882</td>\n",
       "</tr>\n",
       "<tr>\n",
       "  <th>model[T. Z3]</th>              <td>    0.8531</td> <td>    0.059</td> <td>   14.532</td> <td> 0.000</td> <td>    0.738</td> <td>    0.968</td>\n",
       "</tr>\n",
       "<tr>\n",
       "  <th>model[T. Z4]</th>              <td>    0.1877</td> <td>    0.015</td> <td>   12.449</td> <td> 0.000</td> <td>    0.158</td> <td>    0.217</td>\n",
       "</tr>\n",
       "<tr>\n",
       "  <th>model[T. i3]</th>              <td>    1.4099</td> <td>    0.064</td> <td>   22.117</td> <td> 0.000</td> <td>    1.285</td> <td>    1.535</td>\n",
       "</tr>\n",
       "<tr>\n",
       "  <th>model[T. i8]</th>              <td>    1.1575</td> <td>    0.038</td> <td>   30.534</td> <td> 0.000</td> <td>    1.083</td> <td>    1.232</td>\n",
       "</tr>\n",
       "<tr>\n",
       "  <th>transmission[T.Manual]</th>    <td>   -0.0882</td> <td>    0.004</td> <td>  -19.607</td> <td> 0.000</td> <td>   -0.097</td> <td>   -0.079</td>\n",
       "</tr>\n",
       "<tr>\n",
       "  <th>transmission[T.Semi-Auto]</th> <td>    0.0184</td> <td>    0.004</td> <td>    5.181</td> <td> 0.000</td> <td>    0.011</td> <td>    0.025</td>\n",
       "</tr>\n",
       "<tr>\n",
       "  <th>fuelType[T.Electric]</th>      <td>    0.1734</td> <td>    0.078</td> <td>    2.226</td> <td> 0.026</td> <td>    0.021</td> <td>    0.326</td>\n",
       "</tr>\n",
       "<tr>\n",
       "  <th>fuelType[T.Hybrid]</th>        <td>    0.2595</td> <td>    0.014</td> <td>   19.206</td> <td> 0.000</td> <td>    0.233</td> <td>    0.286</td>\n",
       "</tr>\n",
       "<tr>\n",
       "  <th>fuelType[T.Other]</th>         <td>    0.2074</td> <td>    0.030</td> <td>    7.002</td> <td> 0.000</td> <td>    0.149</td> <td>    0.265</td>\n",
       "</tr>\n",
       "<tr>\n",
       "  <th>fuelType[T.Petrol]</th>        <td>   -0.0258</td> <td>    0.004</td> <td>   -5.864</td> <td> 0.000</td> <td>   -0.034</td> <td>   -0.017</td>\n",
       "</tr>\n",
       "<tr>\n",
       "  <th>mileage</th>                   <td>-5.541e-06</td> <td>  9.9e-08</td> <td>  -55.968</td> <td> 0.000</td> <td>-5.74e-06</td> <td>-5.35e-06</td>\n",
       "</tr>\n",
       "<tr>\n",
       "  <th>year</th>                      <td>    0.1037</td> <td>    0.001</td> <td>   97.357</td> <td> 0.000</td> <td>    0.102</td> <td>    0.106</td>\n",
       "</tr>\n",
       "<tr>\n",
       "  <th>tax</th>                       <td>    0.0001</td> <td> 3.09e-05</td> <td>    4.271</td> <td> 0.000</td> <td> 7.15e-05</td> <td>    0.000</td>\n",
       "</tr>\n",
       "<tr>\n",
       "  <th>engineSize</th>                <td>    0.1565</td> <td>    0.004</td> <td>   39.445</td> <td> 0.000</td> <td>    0.149</td> <td>    0.164</td>\n",
       "</tr>\n",
       "<tr>\n",
       "  <th>mpg</th>                       <td>   -0.0028</td> <td>    0.000</td> <td>  -16.120</td> <td> 0.000</td> <td>   -0.003</td> <td>   -0.002</td>\n",
       "</tr>\n",
       "</table>\n",
       "<table class=\"simpletable\">\n",
       "<tr>\n",
       "  <th>Omnibus:</th>       <td>2278.350</td> <th>  Durbin-Watson:     </th>  <td>   2.038</td> \n",
       "</tr>\n",
       "<tr>\n",
       "  <th>Prob(Omnibus):</th>  <td> 0.000</td>  <th>  Jarque-Bera (JB):  </th> <td>117716.562</td>\n",
       "</tr>\n",
       "<tr>\n",
       "  <th>Skew:</th>           <td> 0.658</td>  <th>  Prob(JB):          </th>  <td>    0.00</td> \n",
       "</tr>\n",
       "<tr>\n",
       "  <th>Kurtosis:</th>       <td>22.305</td>  <th>  Cond. No.          </th>  <td>5.36e+07</td> \n",
       "</tr>\n",
       "</table><br/><br/>Warnings:<br/>[1] Standard Errors assume that the covariance matrix of the errors is correctly specified.<br/>[2] The condition number is large, 5.36e+07. This might indicate that there are<br/>strong multicollinearity or other numerical problems."
      ],
      "text/plain": [
       "<class 'statsmodels.iolib.summary.Summary'>\n",
       "\"\"\"\n",
       "                            OLS Regression Results                            \n",
       "==============================================================================\n",
       "Dep. Variable:              log_price   R-squared:                       0.933\n",
       "Model:                            OLS   Adj. R-squared:                  0.933\n",
       "Method:                 Least Squares   F-statistic:                     3101.\n",
       "Date:                Mon, 05 Apr 2021   Prob (F-statistic):               0.00\n",
       "Time:                        05:11:02   Log-Likelihood:                 4954.7\n",
       "No. Observations:                7546   AIC:                            -9839.\n",
       "Df Residuals:                    7511   BIC:                            -9597.\n",
       "Df Model:                          34                                         \n",
       "Covariance Type:            nonrobust                                         \n",
       "=============================================================================================\n",
       "                                coef    std err          t      P>|t|      [0.025      0.975]\n",
       "---------------------------------------------------------------------------------------------\n",
       "Intercept                  -199.4020      2.151    -92.706      0.000    -203.618    -195.186\n",
       "model[T. 2 Series]            0.0225      0.006      4.017      0.000       0.012       0.034\n",
       "model[T. 3 Series]            0.1177      0.005     23.851      0.000       0.108       0.127\n",
       "model[T. 4 Series]            0.1519      0.006     24.484      0.000       0.140       0.164\n",
       "model[T. 5 Series]            0.1984      0.006     31.313      0.000       0.186       0.211\n",
       "model[T. 6 Series]            0.2547      0.015     16.466      0.000       0.224       0.285\n",
       "model[T. 7 Series]            0.4372      0.016     27.754      0.000       0.406       0.468\n",
       "model[T. 8 Series]            0.6944      0.025     27.663      0.000       0.645       0.744\n",
       "model[T. M2]                  0.4151      0.033     12.566      0.000       0.350       0.480\n",
       "model[T. M3]                  0.7962      0.030     26.558      0.000       0.737       0.855\n",
       "model[T. M4]                  0.5115      0.015     34.954      0.000       0.483       0.540\n",
       "model[T. M5]                  0.5637      0.030     18.934      0.000       0.505       0.622\n",
       "model[T. M6]                  0.4206      0.053      7.912      0.000       0.316       0.525\n",
       "model[T. X1]                  0.1450      0.007     22.205      0.000       0.132       0.158\n",
       "model[T. X2]                  0.1658      0.010     16.847      0.000       0.147       0.185\n",
       "model[T. X3]                  0.3345      0.008     42.268      0.000       0.319       0.350\n",
       "model[T. X4]                  0.3682      0.012     29.740      0.000       0.344       0.392\n",
       "model[T. X5]                  0.5429      0.009     59.014      0.000       0.525       0.561\n",
       "model[T. X6]                  0.5446      0.016     34.421      0.000       0.514       0.576\n",
       "model[T. X7]                  0.8396      0.022     39.032      0.000       0.797       0.882\n",
       "model[T. Z3]                  0.8531      0.059     14.532      0.000       0.738       0.968\n",
       "model[T. Z4]                  0.1877      0.015     12.449      0.000       0.158       0.217\n",
       "model[T. i3]                  1.4099      0.064     22.117      0.000       1.285       1.535\n",
       "model[T. i8]                  1.1575      0.038     30.534      0.000       1.083       1.232\n",
       "transmission[T.Manual]       -0.0882      0.004    -19.607      0.000      -0.097      -0.079\n",
       "transmission[T.Semi-Auto]     0.0184      0.004      5.181      0.000       0.011       0.025\n",
       "fuelType[T.Electric]          0.1734      0.078      2.226      0.026       0.021       0.326\n",
       "fuelType[T.Hybrid]            0.2595      0.014     19.206      0.000       0.233       0.286\n",
       "fuelType[T.Other]             0.2074      0.030      7.002      0.000       0.149       0.265\n",
       "fuelType[T.Petrol]           -0.0258      0.004     -5.864      0.000      -0.034      -0.017\n",
       "mileage                   -5.541e-06    9.9e-08    -55.968      0.000   -5.74e-06   -5.35e-06\n",
       "year                          0.1037      0.001     97.357      0.000       0.102       0.106\n",
       "tax                           0.0001   3.09e-05      4.271      0.000    7.15e-05       0.000\n",
       "engineSize                    0.1565      0.004     39.445      0.000       0.149       0.164\n",
       "mpg                          -0.0028      0.000    -16.120      0.000      -0.003      -0.002\n",
       "==============================================================================\n",
       "Omnibus:                     2278.350   Durbin-Watson:                   2.038\n",
       "Prob(Omnibus):                  0.000   Jarque-Bera (JB):           117716.562\n",
       "Skew:                           0.658   Prob(JB):                         0.00\n",
       "Kurtosis:                      22.305   Cond. No.                     5.36e+07\n",
       "==============================================================================\n",
       "\n",
       "Warnings:\n",
       "[1] Standard Errors assume that the covariance matrix of the errors is correctly specified.\n",
       "[2] The condition number is large, 5.36e+07. This might indicate that there are\n",
       "strong multicollinearity or other numerical problems.\n",
       "\"\"\""
      ]
     },
     "execution_count": 92,
     "metadata": {},
     "output_type": "execute_result"
    }
   ],
   "source": [
    "reg_model = ols(\"log_price ~ mileage + year + model + tax + transmission + engineSize + mpg + fuelType\",data=bmw).fit()\n",
    "reg_model.summary()"
   ]
  },
  {
   "cell_type": "markdown",
   "metadata": {},
   "source": [
    "- After adding all the attributes to the model, R-squared increased to 0.936, the test for the significance of the model rejects the null hypothesis of no linear dependence between `log_price` with attributes with very small p value.\n",
    "- The interpretation of coefficients in multiple linear model is more difficult, take `year` as a example again, in this model the coefficient means that with all the other variables fixed, one unit increase in `year` will lead to 0.1037 increase in `log_price`."
   ]
  },
  {
   "cell_type": "markdown",
   "metadata": {},
   "source": [
    "## Regression Diagnostics\n",
    "In many cases of statistical analysis, we are not sure whether our statistical model is correctly specified. For example when using ols, then linearity and homoscedasticity are assumed, some test statistics additionally assume that the errors are normally distributed or that we have a large sample. Since our results depend on these statistical assumptions, the results are only correct of our assumptions hold (at least approximately).One solution to the problem of uncertainty about the correct specification is conducting diagnostics to test whether our sample is consistent with these assumptions."
   ]
  },
  {
   "cell_type": "markdown",
   "metadata": {},
   "source": [
    "### Normality and Distribution of redisuals\n",
    "The linear regression analysis requires all variables to be multivariate normal. This assumption can best be checked with a histogram or a Q-Q-Plot. Normality can be checked with a goodness of fit test."
   ]
  },
  {
   "cell_type": "code",
   "execution_count": 93,
   "metadata": {},
   "outputs": [],
   "source": [
    "# calculate the residuals\n",
    "resid = reg_model.resid\n",
    "# calculate standardized residuals\n",
    "standardized_residuals = reg_model.get_influence().resid_studentized_internal\n",
    "# calculate the fitted values\n",
    "fitted_value = reg_model.fittedvalues"
   ]
  },
  {
   "cell_type": "code",
   "execution_count": 95,
   "metadata": {},
   "outputs": [
    {
     "data": {
      "text/plain": [
       "[('Jarque-Bera', 117716.5620970566),\n",
       " ('Chi^2 two-tail prob.', 0.0),\n",
       " ('Skew', 0.6580045957759288),\n",
       " ('Kurtosis', 22.30452845227589)]"
      ]
     },
     "execution_count": 95,
     "metadata": {},
     "output_type": "execute_result"
    }
   ],
   "source": [
    "name = ['Jarque-Bera', 'Chi^2 two-tail prob.', 'Skew', 'Kurtosis']\n",
    "test = sms.jarque_bera(resid)\n",
    "list(zip(name,test))"
   ]
  },
  {
   "cell_type": "markdown",
   "metadata": {},
   "source": [
    "Jarque–Bera test is a goodness-of-fit test of whether sample data have the skewness and kurtosis matching a normal distribution. Here, the small p-value implies that the null hypothesis: the distribution of residuals is not norm is rejected, we can also verify this by creating a qqplot."
   ]
  },
  {
   "cell_type": "code",
   "execution_count": 482,
   "metadata": {},
   "outputs": [
    {
     "data": {
      "image/png": "[encoded data removed]",
      "text/plain": [
       "<Figure size 432x288 with 1 Axes>"
      ]
     },
     "metadata": {
      "needs_background": "light"
     },
     "output_type": "display_data"
    }
   ],
   "source": [
    "qqplot(data = resid, fit=True,line=\"45\")\n",
    "plt.show()"
   ]
  },
  {
   "cell_type": "markdown",
   "metadata": {},
   "source": [
    "Q–Q (quantile-quantile) plot is a probability plot, which is a graphical method for comparing two probability distributions by plotting their quantiles against each other. In the plot above, most residuals are located on the diagnal line,only some points at the ends deviate from the line. This situation is normal in the real world data."
   ]
  },
  {
   "cell_type": "markdown",
   "metadata": {},
   "source": [
    "### Heteroskedasticity tests\n",
    "The last assumption of the linear regression analysis is homoscedasticity.  The scatter plot is good way to check whether the data are homoscedastic (meaning the residuals are equal across the regression line)."
   ]
  },
  {
   "cell_type": "code",
   "execution_count": 41,
   "metadata": {},
   "outputs": [
    {
     "data": {
      "text/plain": [
       "[('Lagrange multiplier statistic', 299.66420225755246),\n",
       " ('p-value', 7.021056825998903e-49),\n",
       " ('f-value', 12.439313785713551),\n",
       " ('f p-value', 5.463621000114811e-50)]"
      ]
     },
     "execution_count": 41,
     "metadata": {},
     "output_type": "execute_result"
    }
   ],
   "source": [
    "name = ['Lagrange multiplier statistic', 'p-value',\n",
    "        'f-value', 'f p-value']\n",
    "hete_test = sms.het_breuschpagan(reg_model.resid, reg_model_simple.model.exog)\n",
    "list(zip(name, hete_test))"
   ]
  },
  {
   "cell_type": "markdown",
   "metadata": {},
   "source": [
    "The Breusch–Pagan test is used to test for heteroskedasticity in a linear regression model. In our case, the p-value is very small, which means the residuals have consistent variance. This can also be verified by the plot of fitted value vers residuals.Most standardized residuals are within the range (-3,3)"
   ]
  },
  {
   "cell_type": "code",
   "execution_count": 551,
   "metadata": {},
   "outputs": [
    {
     "data": {
      "text/plain": [
       "[Text(0, 0.5, 'standardized_residuals'), Text(0.5, 0, 'fitted_value')]"
      ]
     },
     "execution_count": 551,
     "metadata": {},
     "output_type": "execute_result"
    },
    {
     "data": {
      "image/png": "[encoded data removed]",
      "text/plain": [
       "<Figure size 432x288 with 1 Axes>"
      ]
     },
     "metadata": {
      "needs_background": "light"
     },
     "output_type": "display_data"
    }
   ],
   "source": [
    "g = sns.scatterplot(x=fitted_value, y=standardized_residuals,alpha=0.1)\n",
    "g.axhline(0, c='red')\n",
    "g.axhline(3, ls='--', c='red')\n",
    "g.axhline(-3, ls='--', c='red')\n",
    "g.set(xlabel=\"fitted_value\", ylabel=\"standardized_residuals\")"
   ]
  },
  {
   "cell_type": "markdown",
   "metadata": {},
   "source": [
    "### Outlier and Influence point\n",
    "In the residual plot above, we can see some observations with large residuals, these points may have larger influence on the regression estimates. we want to check if they are outliers need to be removed."
   ]
  },
  {
   "cell_type": "code",
   "execution_count": 54,
   "metadata": {},
   "outputs": [],
   "source": [
    "summary = reg_model.get_influence().summary_frame()\n",
    "leverage =  summary[\"hat_diag\"]\n",
    "cooks_dist = summary[\"cooks_d\"]"
   ]
  },
  {
   "cell_type": "markdown",
   "metadata": {},
   "source": [
    "In statistics, Cook's distance is a common measurement of a data point's influence. It's a way to find influential outliers in a set of predictor variables when performing a least-squares regression analysis. Usually we compare the cook's distnce to F(0.5,p,n-p), where p is number of attributes and n is number of observation."
   ]
  },
  {
   "cell_type": "code",
   "execution_count": 42,
   "metadata": {},
   "outputs": [
    {
     "name": "stdout",
     "output_type": "stream",
     "text": [
      "cutoff: 0.9805491658961749\n"
     ]
    }
   ],
   "source": [
    "from scipy.stats import f\n",
    "cutoff = f.ppf(0.5,34,7511)\n",
    "print(\"cutoff:\",cutoff)"
   ]
  },
  {
   "cell_type": "code",
   "execution_count": 56,
   "metadata": {},
   "outputs": [
    {
     "data": {
      "image/png": "[encoded data removed]",
      "text/plain": [
       "<Figure size 432x288 with 1 Axes>"
      ]
     },
     "metadata": {
      "needs_background": "light"
     },
     "output_type": "display_data"
    }
   ],
   "source": [
    "sns.scatterplot(x=standardized_residuals, y = cooks_dist)\n",
    "plt.show()"
   ]
  },
  {
   "cell_type": "markdown",
   "metadata": {},
   "source": [
    "All the cook's distance is smaller than the cutoff, so we will not remove any observations."
   ]
  },
  {
   "cell_type": "markdown",
   "metadata": {},
   "source": [
    "  "
   ]
  },
  {
   "cell_type": "markdown",
   "metadata": {},
   "source": [
    "  "
   ]
  },
  {
   "cell_type": "markdown",
   "metadata": {},
   "source": [
    "----"
   ]
  },
  {
   "cell_type": "markdown",
   "metadata": {},
   "source": [
    "#  Part II: Machine Learning with scikit-learn\n",
    "Scikit-learn is a free software machine learning library based on Python.It features various classification, regression and clustering algorithms. In this section, we will use `LinearRegression()` and `RandomForestRegressor()` to build 3 different models to make the prediction. We will also evaluate and compare their performance."
   ]
  },
  {
   "cell_type": "markdown",
   "metadata": {},
   "source": [
    "<a id=\"prepare-the-dasta-for-modelin\"></a>\n",
    "# Prepare the Data for Modeling\n",
    "\n",
    "In order to build and train the model more efficiently , we need to preprocess the data to make the data ready for modeling, the precess includes:\n",
    "1. Clean the data\n",
    "2. Split the data into data and labels\n",
    "3. Standarize the numeric data\n",
    "4. One-Hot Encoding the categorical data"
   ]
  },
  {
   "cell_type": "markdown",
   "metadata": {},
   "source": [
    "## Cleaning Data\n",
    "As we have checked in the first section, there's no missing value and Inconsistency in the dataset, so we don't need to do too much. The only thing we need to do is remove the abnormal observation with wrong price as we did in the last section."
   ]
  },
  {
   "cell_type": "code",
   "execution_count": 97,
   "metadata": {},
   "outputs": [],
   "source": [
    "train = train[train['price']<100000]"
   ]
  },
  {
   "cell_type": "markdown",
   "metadata": {},
   "source": [
    "Another thing we need to do is converting the type of original data `model`, `transmission`, `fuelType` into categorical data."
   ]
  },
  {
   "cell_type": "code",
   "execution_count": 51,
   "metadata": {
    "scrolled": true
   },
   "outputs": [],
   "source": [
    "for col in [\"model\", \"transmission\", \"fuelType\"]:\n",
    "    train[col] = train[col].astype('category')"
   ]
  },
  {
   "cell_type": "code",
   "execution_count": 98,
   "metadata": {},
   "outputs": [
    {
     "data": {
      "text/plain": [
       "model            object\n",
       "year              int64\n",
       "price             int64\n",
       "transmission     object\n",
       "mileage           int64\n",
       "fuelType         object\n",
       "tax               int64\n",
       "mpg             float64\n",
       "engineSize      float64\n",
       "dtype: object"
      ]
     },
     "execution_count": 98,
     "metadata": {},
     "output_type": "execute_result"
    }
   ],
   "source": [
    "train.dtypes"
   ]
  },
  {
   "cell_type": "markdown",
   "metadata": {},
   "source": [
    "## Spliting Data\n",
    "The training and testing data need to be divided into data for training and label, in this project, we make `price` as our target value, other variables are used as predictors."
   ]
  },
  {
   "cell_type": "code",
   "execution_count": 103,
   "metadata": {},
   "outputs": [],
   "source": [
    "X_train = train.drop(columns='price', axis=1)\n",
    "y_train = train['price'].copy()\n",
    "X_test = test.drop(columns='price', axis=1)\n",
    "y_test = test['price'].copy()"
   ]
  },
  {
   "cell_type": "markdown",
   "metadata": {},
   "source": [
    "## One-Hot Encoding the Categorical Data\n",
    "`model`, `transmission` and `fuelType` are supposed to be categorical and need to be modified. This is because that some machine learning methods do not natively support categorical data, like `transmission`, which contains 3 different categories. Thus, in order to use categorical data with scikit learn, we have to use a trick that converts a column of categorical data into multiple columns of binary values. This trick is called One-Hot Encoding.\n",
    "\n",
    "There are many different ways to do **One-Hot Encoding** in Python. Two of the more popular methods are `OneHotEncoder()` (from **scikit-learn**) and `get_dummies()` (from **pandas**), we will apply `OneHotEncoder()` in this project."
   ]
  },
  {
   "cell_type": "code",
   "execution_count": 54,
   "metadata": {},
   "outputs": [],
   "source": [
    "X_cat = X_train[[\"model\", \"transmission\", \"fuelType\"]]\n",
    "cat_encoder = OneHotEncoder()\n",
    "X_cat_1hot = cat_encoder.fit_transform(X_cat)"
   ]
  },
  {
   "cell_type": "markdown",
   "metadata": {},
   "source": [
    "## Centering and Scaling Numeric Data\n",
    "Feature scaling in machine learning is one of the most critical steps during the pre-processing of data before creating a machine learning model. The most common techniques of feature scaling are **Normalization** and **Standardization**.\n",
    "Normalization is used when we want to bound our values between two numbers, typically, between [0,1] or [-1,1]. While Standardization transforms the data to have zero mean and a variance of 1. In this project we will apply Standardization."
   ]
  },
  {
   "cell_type": "code",
   "execution_count": 55,
   "metadata": {},
   "outputs": [],
   "source": [
    "X_num = X_train[[\"year\",\"mileage\",\"tax\", \"mpg\", \"engineSize\"]]\n",
    "std_scaler = StandardScaler()\n",
    "X_num_std = std_scaler.fit_transform(X_num)"
   ]
  },
  {
   "cell_type": "markdown",
   "metadata": {},
   "source": [
    "## Conduct the Transformation in One Pipeline"
   ]
  },
  {
   "cell_type": "code",
   "execution_count": 56,
   "metadata": {},
   "outputs": [],
   "source": [
    "num_var = [\"year\",\"mileage\",\"tax\", \"mpg\", \"engineSize\"]\n",
    "cat_var = [\"model\", \"transmission\", \"fuelType\"]\n",
    "\n",
    "pipeline = ColumnTransformer([\n",
    "    (\"num\", StandardScaler(), num_var),\n",
    "    (\"cat\", OneHotEncoder(), cat_var),\n",
    "])"
   ]
  },
  {
   "cell_type": "code",
   "execution_count": 57,
   "metadata": {},
   "outputs": [],
   "source": [
    "X_train_prepared = pipeline.fit_transform(X_train)\n",
    "X_test_prepared = pipeline.transform(X_test)\n",
    "\n",
    "# Note: Use fit_transform() on training data, transform() on testing data"
   ]
  },
  {
   "cell_type": "markdown",
   "metadata": {},
   "source": [
    "  "
   ]
  },
  {
   "cell_type": "markdown",
   "metadata": {},
   "source": [
    "----"
   ]
  },
  {
   "cell_type": "markdown",
   "metadata": {},
   "source": [
    "<a id=\"build-machine-learning-models\"></a>\n",
    "# Build  Machine Learning Models\n",
    "Now, the data is correctly formatted for making machine learning models. So let's do it."
   ]
  },
  {
   "cell_type": "markdown",
   "metadata": {},
   "source": [
    "## Linear Regression Model\n",
    "\n",
    "**Linear Regression** is a linear approach to modelling the relationship between a scalar response and one or more explanatory variables, it is one of the most useful model for predicting continuous target values. We will build a basic linear regression model first."
   ]
  },
  {
   "cell_type": "code",
   "execution_count": 62,
   "metadata": {},
   "outputs": [
    {
     "data": {
      "text/plain": [
       "LinearRegression()"
      ]
     },
     "execution_count": 62,
     "metadata": {},
     "output_type": "execute_result"
    }
   ],
   "source": [
    "lin_reg = LinearRegression()\n",
    "lin_reg.fit(X_train_prepared, y_train)"
   ]
  },
  {
   "cell_type": "markdown",
   "metadata": {},
   "source": [
    "Next, let's check how this model performs in the training data"
   ]
  },
  {
   "cell_type": "code",
   "execution_count": 59,
   "metadata": {},
   "outputs": [
    {
     "name": "stdout",
     "output_type": "stream",
     "text": [
      "RMSE of Linear Regression Model: 4014.874747319671\n"
     ]
    }
   ],
   "source": [
    "y_pred_lin = lin_reg.predict(X_train_prepared)\n",
    "mse_lin = mean_squared_error(y_train,y_pred_lin)\n",
    "rmse_lin = np.sqrt(mse_lin)\n",
    "print(\"RMSE of Linear Regression Model:\",rmse_lin)"
   ]
  },
  {
   "cell_type": "markdown",
   "metadata": {},
   "source": [
    "RMSE is 4014, considering the mean of the price is 22733, this is a pretty large number, which implies the model doesn't fit the data very well, the poor performance may caused by underfitting, we need to try some other more advanced models. "
   ]
  },
  {
   "cell_type": "markdown",
   "metadata": {},
   "source": [
    "## Polynomial Regression Model\n",
    "**Polynomial Regression** is also a linear model which include not only independent variables in X, but also an nth degree polynomial in X. Here, we will try a polynomial model with degree equals to 2."
   ]
  },
  {
   "cell_type": "code",
   "execution_count": 64,
   "metadata": {},
   "outputs": [
    {
     "name": "stdout",
     "output_type": "stream",
     "text": [
      "RMSE of Poly Regression Model: 2597.8882027703244\n"
     ]
    }
   ],
   "source": [
    "from sklearn.preprocessing import PolynomialFeatures\n",
    "poly_features = PolynomialFeatures(degree=2, include_bias=False)\n",
    "X_poly = poly_features.fit_transform(X_train_prepared)\n",
    "poly_reg = LinearRegression()\n",
    "poly_reg.fit(X_poly, y_train)\n",
    "y_pred_poly = poly_reg.predict(X_poly)\n",
    "mse_poly = mean_squared_error(y_train,y_pred_poly)\n",
    "rmse_poly = np.sqrt(mse_poly)\n",
    "print(\"RMSE of Poly Regression Model:\",rmse_poly)"
   ]
  },
  {
   "cell_type": "markdown",
   "metadata": {},
   "source": [
    "It looks good! the RMSE has decreased from 4015 to 2598, this is a huge improvement, but there's a questions we need to think about.\n",
    "\n",
    "The polymmomial did improve the model's performance on training data, but could that because of overfitting? Since we add quadratic terms, the new model may have lower bias but higher variance, that means the model may have poor performance in the testing data."
   ]
  },
  {
   "cell_type": "markdown",
   "metadata": {},
   "source": [
    "For the first question, we can apply cross validation score to test if the model is overfitted. Here, we will divide the data into 5 folds, use each part for test and others for training. Then calculate the mean and standar diviation of 5 RMSE. Let's first take a look at the cross validation score of basic linear regression model."
   ]
  },
  {
   "cell_type": "code",
   "execution_count": 65,
   "metadata": {},
   "outputs": [
    {
     "name": "stdout",
     "output_type": "stream",
     "text": [
      "Mean of cross validation score: 4056.3370941923067\n",
      "Standar diviation of cross validation score: 99.98513207324041\n"
     ]
    }
   ],
   "source": [
    "score_lin = cross_val_score(lin_reg, X_train_prepared, y_train, scoring=\"neg_mean_squared_error\", cv = 5)\n",
    "lin_rmse_scores = np.sqrt(-score_lin)\n",
    "print(\"Mean of cross validation score:\",lin_rmse_scores.mean())\n",
    "print(\"Standar diviation of cross validation score:\",lin_rmse_scores.std())"
   ]
  },
  {
   "cell_type": "markdown",
   "metadata": {},
   "source": [
    "CV_Score is almost the same as the result on the whole training data. Next, let's check the CV_Score of the polynomial model."
   ]
  },
  {
   "cell_type": "code",
   "execution_count": 66,
   "metadata": {},
   "outputs": [
    {
     "name": "stdout",
     "output_type": "stream",
     "text": [
      "Mean of cross validation score: 3510.2192090046665\n",
      "Standar diviation of cross validation score: 706.0169766453947\n"
     ]
    }
   ],
   "source": [
    "score_poly = cross_val_score(poly_reg, X_poly, y_train, scoring=\"neg_mean_squared_error\", cv = 5)\n",
    "poly_rmse_scores = np.sqrt(-score_poly)\n",
    "print(\"Mean of cross validation score:\",poly_rmse_scores.mean())\n",
    "print(\"Standar diviation of cross validation score:\",poly_rmse_scores.std())"
   ]
  },
  {
   "cell_type": "markdown",
   "metadata": {},
   "source": [
    "As the result shown, RMSE has increased a lot, the standar divation is also increased, which implies that the model's performance is not stable, Our concern about overfitting is verified. Since both of the linear model are not satisfying, we turn to tree-based model to see if there's a chance to make difference."
   ]
  },
  {
   "cell_type": "markdown",
   "metadata": {},
   "source": [
    "## Random Forest Regression Model\n",
    "**Decision Tree** is a supervised machine learning model used to predict a target by learning decision rules from features. The decision tree method is usually used for sloving classification problems, but it is also capable for sloving regression problem.\n",
    "\n",
    "Decision Tree is easy for understanding, but it usually leads to overfitting, a compromise for this problem is applying **Random Forest**. Random Forest is an ensemble tree-based learning method that constructing a multitude of decision trees at training time and outputting the average prediction of the individual trees."
   ]
  },
  {
   "cell_type": "markdown",
   "metadata": {},
   "source": [
    "Calculate the RMSE on training data as we did before"
   ]
  },
  {
   "cell_type": "code",
   "execution_count": 67,
   "metadata": {},
   "outputs": [
    {
     "name": "stdout",
     "output_type": "stream",
     "text": [
      "RMSE of Random Forest Model: 973.0719602658079\n"
     ]
    }
   ],
   "source": [
    "rf_reg = RandomForestRegressor(random_state = 72)\n",
    "rf_reg.fit(X_train_prepared, y_train)\n",
    "y_pred_rf = rf_reg.predict(X_train_prepared)\n",
    "mse_rf = mean_squared_error(y_train,y_pred_rf)\n",
    "rmse_rf = np.sqrt(mse_rf)\n",
    "print(\"RMSE of Random Forest Model:\",rmse_rf)"
   ]
  },
  {
   "cell_type": "markdown",
   "metadata": {},
   "source": [
    "Then check the cross validation score"
   ]
  },
  {
   "cell_type": "code",
   "execution_count": 68,
   "metadata": {},
   "outputs": [
    {
     "name": "stdout",
     "output_type": "stream",
     "text": [
      "Mean of cross validation score: 2620.1901604804157\n",
      "Standar diviation of cross validation score: 114.75228636762893\n"
     ]
    }
   ],
   "source": [
    "score_rf = cross_val_score(rf_reg, X_train_prepared, y_train, scoring=\"neg_mean_squared_error\", cv = 5)\n",
    "rf_rmse_scores = np.sqrt(-score_rf)\n",
    "print(\"Mean of cross validation score:\",rf_rmse_scores.mean())\n",
    "print(\"Standar diviation of cross validation score:\",rf_rmse_scores.std())"
   ]
  },
  {
   "cell_type": "markdown",
   "metadata": {},
   "source": [
    "We can see that the performance of RandomForestRegressor is better than linear regression and polynomial regression model. Our direction is right, now we need to consider about how to optimize the model by tuning its parameters."
   ]
  },
  {
   "cell_type": "markdown",
   "metadata": {},
   "source": [
    "----"
   ]
  },
  {
   "cell_type": "markdown",
   "metadata": {},
   "source": [
    "<a id=\"optimize-parameters\"></a>\n",
    "# Optimize Parameters with RandomSearchCV()\n",
    "The Random Forest model we build is just a base-line model with default parameters, we can use multiple ways to try the different combination of parameters, the most popular way to tune the model is `GridSearchCV()` and `RandomSearchCV()`. Here, we will apply random search."
   ]
  },
  {
   "cell_type": "markdown",
   "metadata": {},
   "source": [
    "First, we build a random search grid for searching the best parameters."
   ]
  },
  {
   "cell_type": "code",
   "execution_count": 70,
   "metadata": {},
   "outputs": [],
   "source": [
    "# Number of trees in random forest\n",
    "n_estimators = [int(x) for x in np.linspace(start = 200, stop = 2000, num = 10)]\n",
    "# Number of features to consider at every split\n",
    "max_features = ['auto', 'sqrt']\n",
    "# Maximum number of levels in tree\n",
    "max_depth = [int(x) for x in np.linspace(10, 110, num = 11)]\n",
    "max_depth.append(None)\n",
    "# Minimum number of samples required to split a node\n",
    "min_samples_split = [2, 5, 10]\n",
    "# Minimum number of samples required at each leaf node\n",
    "min_samples_leaf = [1, 2, 4]\n",
    "# Method of selecting samples for training each tree\n",
    "bootstrap = [True, False]\n",
    "# Create the random grid\n",
    "random_grid = {'n_estimators': n_estimators,\n",
    "               'max_features': max_features,\n",
    "               'max_depth': max_depth,\n",
    "               'min_samples_split': min_samples_split,\n",
    "               'min_samples_leaf': min_samples_leaf,\n",
    "               'bootstrap': bootstrap}"
   ]
  },
  {
   "cell_type": "markdown",
   "metadata": {},
   "source": [
    "Next, we instantiate the random search and fit it like any Scikit-Learn model:"
   ]
  },
  {
   "cell_type": "code",
   "execution_count": 71,
   "metadata": {},
   "outputs": [
    {
     "name": "stdout",
     "output_type": "stream",
     "text": [
      "Fitting 3 folds for each of 100 candidates, totalling 300 fits\n"
     ]
    },
    {
     "name": "stderr",
     "output_type": "stream",
     "text": [
      "[Parallel(n_jobs=-1)]: Using backend LokyBackend with 4 concurrent workers.\n",
      "[Parallel(n_jobs=-1)]: Done  33 tasks      | elapsed: 11.7min\n",
      "[Parallel(n_jobs=-1)]: Done 154 tasks      | elapsed: 60.1min\n",
      "[Parallel(n_jobs=-1)]: Done 300 out of 300 | elapsed: 501.6min finished\n"
     ]
    },
    {
     "data": {
      "text/plain": [
       "RandomizedSearchCV(cv=3, estimator=RandomForestRegressor(random_state=72),\n",
       "                   n_iter=100, n_jobs=-1,\n",
       "                   param_distributions={'bootstrap': [True, False],\n",
       "                                        'max_depth': [10, 20, 30, 40, 50, 60,\n",
       "                                                      70, 80, 90, 100, 110,\n",
       "                                                      None],\n",
       "                                        'max_features': ['auto', 'sqrt'],\n",
       "                                        'min_samples_leaf': [1, 2, 4],\n",
       "                                        'min_samples_split': [2, 5, 10],\n",
       "                                        'n_estimators': [200, 400, 600, 800,\n",
       "                                                         1000, 1200, 1400, 1600,\n",
       "                                                         1800, 2000]},\n",
       "                   random_state=42, verbose=2)"
      ]
     },
     "execution_count": 71,
     "metadata": {},
     "output_type": "execute_result"
    }
   ],
   "source": [
    "# search across 100 different combinations in 3 cv, and use all available cores\n",
    "rf_random = RandomizedSearchCV(estimator = rf_reg, param_distributions = random_grid, n_iter = 100, cv = 3, verbose=2, random_state=42, n_jobs = -1)\n",
    "# Fit the random search model\n",
    "rf_random.fit(X_train_prepared, y_train)"
   ]
  },
  {
   "cell_type": "markdown",
   "metadata": {},
   "source": [
    "We can view the best parameters from fitting the random search:"
   ]
  },
  {
   "cell_type": "code",
   "execution_count": 72,
   "metadata": {},
   "outputs": [
    {
     "data": {
      "text/plain": [
       "{'n_estimators': 1600,\n",
       " 'min_samples_split': 5,\n",
       " 'min_samples_leaf': 1,\n",
       " 'max_features': 'sqrt',\n",
       " 'max_depth': 70,\n",
       " 'bootstrap': False}"
      ]
     },
     "execution_count": 72,
     "metadata": {},
     "output_type": "execute_result"
    }
   ],
   "source": [
    "rf_random.best_params_"
   ]
  },
  {
   "cell_type": "markdown",
   "metadata": {},
   "source": [
    "Check the performance of optimized model on training set"
   ]
  },
  {
   "cell_type": "code",
   "execution_count": 127,
   "metadata": {},
   "outputs": [
    {
     "name": "stdout",
     "output_type": "stream",
     "text": [
      "RMSE of final Model: 989.2817444761845\n"
     ]
    }
   ],
   "source": [
    "final_model = rf_random.best_estimator_\n",
    "final_model.fit(X_train_prepared, y_train)\n",
    "y_pred_final = final_model.predict(X_train_prepared)\n",
    "mse_final = mean_squared_error(y_train,y_pred_final)\n",
    "rmse_final = np.sqrt(mse_final)\n",
    "print(\"RMSE of final Model:\",rmse_final)"
   ]
  },
  {
   "cell_type": "markdown",
   "metadata": {},
   "source": [
    "RMSE is 989, almost the same as the original modelbefore tuning. Let's see how it performs in cross validation."
   ]
  },
  {
   "cell_type": "code",
   "execution_count": 77,
   "metadata": {},
   "outputs": [
    {
     "name": "stdout",
     "output_type": "stream",
     "text": [
      "Mean of cross validation score: 2501.5198173066765\n",
      "Standar diviation of cross validation score: 85.6999868341199\n"
     ]
    }
   ],
   "source": [
    "score_rf_random = cross_val_score(rf_random.best_estimator_, X_train_prepared, y_train, \n",
    "                                  scoring=\"neg_mean_squared_error\", cv = 5)\n",
    "rf_random_scores = np.sqrt(-score_rf_random)\n",
    "print(\"Mean of cross validation score:\",rf_random_scores.mean())\n",
    "print(\"Standar diviation of cross validation score:\",rf_random_scores.std())"
   ]
  },
  {
   "cell_type": "markdown",
   "metadata": {},
   "source": [
    "The cross validation score and the standar diviation both decrease, that's the result we expect, we will accept this model as the best model."
   ]
  },
  {
   "cell_type": "markdown",
   "metadata": {},
   "source": [
    "----"
   ]
  },
  {
   "cell_type": "markdown",
   "metadata": {},
   "source": [
    "<a id=\"evaluate-model\"></a>\n",
    "# Evaluating the Optimized Model on Testing Set\n",
    "After building and tuning the model, now is the time to evaluate the final model on testing set"
   ]
  },
  {
   "cell_type": "markdown",
   "metadata": {},
   "source": [
    "Let's test how the final model performs in the testing data"
   ]
  },
  {
   "cell_type": "code",
   "execution_count": 126,
   "metadata": {},
   "outputs": [
    {
     "data": {
      "text/plain": [
       "2378.0822438399423"
      ]
     },
     "execution_count": 126,
     "metadata": {},
     "output_type": "execute_result"
    }
   ],
   "source": [
    "final_test_predictions = final_model.predict(X_test_prepared)\n",
    "final_test_mse = mean_squared_error(y_test,final_test_predictions)\n",
    "final_test_rmse = np.sqrt(final_test_mse)\n",
    "print(\"RMSE of Best Model on testing data:\", lin_test_rmse)"
   ]
  },
  {
   "cell_type": "markdown",
   "metadata": {},
   "source": [
    "Next, we compare the performance of all the models we have built so far."
   ]
  },
  {
   "cell_type": "code",
   "execution_count": 120,
   "metadata": {},
   "outputs": [
    {
     "name": "stdout",
     "output_type": "stream",
     "text": [
      "RMSE on testing data: 4031.660313447852\n"
     ]
    }
   ],
   "source": [
    "lin_test_predictions = lin_reg.predict(X_test_prepared)\n",
    "lin_test_mse = mean_squared_error(y_test,lin_test_predictions)\n",
    "lin_test_rmse = np.sqrt(lin_test_mse)\n",
    "print(\"RMSE of Linear Regression Model on testing data:\", lin_test_rmse)"
   ]
  },
  {
   "cell_type": "code",
   "execution_count": 123,
   "metadata": {},
   "outputs": [
    {
     "name": "stdout",
     "output_type": "stream",
     "text": [
      "RMSE of Poly Regression Model: 2843.7829130495843\n"
     ]
    }
   ],
   "source": [
    "X_test_poly = poly_features.transform(X_test_prepared)\n",
    "poly_test_predictions = poly_reg.predict(X_test_poly)\n",
    "poly_test_mse = mean_squared_error(y_test,poly_test_predictions)\n",
    "poly_test_rmse = np.sqrt(poly_test_mse)\n",
    "print(\"RMSE of Poly Regression Model on testing data:\",poly_test_rmse)"
   ]
  },
  {
   "cell_type": "code",
   "execution_count": 125,
   "metadata": {},
   "outputs": [
    {
     "name": "stdout",
     "output_type": "stream",
     "text": [
      "RMSE of Random Forest Model on testing data: 2301.3993858812387\n"
     ]
    }
   ],
   "source": [
    "rf_test_predictions = rf_reg.predict(X_test_prepared)\n",
    "rf_test_mse = mean_squared_error(y_test,rf_test_predictions)\n",
    "rf_test_rmse = np.sqrt(rf_test_mse)\n",
    "print(\"RMSE of Random Forest Model on testing data:\", rf_test_rmse)"
   ]
  },
  {
   "cell_type": "markdown",
   "metadata": {},
   "source": [
    "Finally, we build a table to summarize the performace of different models"
   ]
  },
  {
   "cell_type": "code",
   "execution_count": 130,
   "metadata": {},
   "outputs": [],
   "source": [
    "score_dic = {'model': ['Linear Regression','Polynomial Regression','Random Forest','Random Forest (optimized)'],\n",
    "        'RMSE_train': [4015,2598,973,989], \n",
    "        'CV_Score_mean':[4056, 3510, 2620, 2501], \n",
    "        'CV_Score_std':[100, 706, 115, 86], \n",
    "        'RMSE_test':[4031, 2843, 2301, 2378]\n",
    "        }"
   ]
  },
  {
   "cell_type": "code",
   "execution_count": 132,
   "metadata": {
    "scrolled": true
   },
   "outputs": [
    {
     "data": {
      "text/html": [
       "<div>\n",
       "<style scoped>\n",
       "    .dataframe tbody tr th:only-of-type {\n",
       "        vertical-align: middle;\n",
       "    }\n",
       "\n",
       "    .dataframe tbody tr th {\n",
       "        vertical-align: top;\n",
       "    }\n",
       "\n",
       "    .dataframe thead th {\n",
       "        text-align: right;\n",
       "    }\n",
       "</style>\n",
       "<table border=\"1\" class=\"dataframe\">\n",
       "  <thead>\n",
       "    <tr style=\"text-align: right;\">\n",
       "      <th></th>\n",
       "      <th>model</th>\n",
       "      <th>RMSE_train</th>\n",
       "      <th>CV_Score_mean</th>\n",
       "      <th>CV_Score_std</th>\n",
       "      <th>RMSE_test</th>\n",
       "    </tr>\n",
       "  </thead>\n",
       "  <tbody>\n",
       "    <tr>\n",
       "      <th>0</th>\n",
       "      <td>Linear Regression</td>\n",
       "      <td>4015</td>\n",
       "      <td>4056</td>\n",
       "      <td>100</td>\n",
       "      <td>4031</td>\n",
       "    </tr>\n",
       "    <tr>\n",
       "      <th>1</th>\n",
       "      <td>Polynomial Regression</td>\n",
       "      <td>2598</td>\n",
       "      <td>3510</td>\n",
       "      <td>706</td>\n",
       "      <td>2843</td>\n",
       "    </tr>\n",
       "    <tr>\n",
       "      <th>2</th>\n",
       "      <td>Random Forest</td>\n",
       "      <td>973</td>\n",
       "      <td>2620</td>\n",
       "      <td>115</td>\n",
       "      <td>2301</td>\n",
       "    </tr>\n",
       "    <tr>\n",
       "      <th>3</th>\n",
       "      <td>Random Forest (optimized)</td>\n",
       "      <td>989</td>\n",
       "      <td>2501</td>\n",
       "      <td>86</td>\n",
       "      <td>2378</td>\n",
       "    </tr>\n",
       "  </tbody>\n",
       "</table>\n",
       "</div>"
      ],
      "text/plain": [
       "                       model  RMSE_train  CV_Score_mean  CV_Score_std  \\\n",
       "0          Linear Regression        4015           4056           100   \n",
       "1      Polynomial Regression        2598           3510           706   \n",
       "2              Random Forest         973           2620           115   \n",
       "3  Random Forest (optimized)         989           2501            86   \n",
       "\n",
       "   RMSE_test  \n",
       "0       4031  \n",
       "1       2843  \n",
       "2       2301  \n",
       "3       2378  "
      ]
     },
     "execution_count": 132,
     "metadata": {},
     "output_type": "execute_result"
    }
   ],
   "source": [
    "score_summary = pd.DataFrame(score_dic, columns = ['model','RMSE_train', 'CV_Score_mean', 'CV_Score_std', 'RMSE_test'])\n",
    "score_summary"
   ]
  },
  {
   "cell_type": "markdown",
   "metadata": {},
   "source": [
    "From the table, we can see that the final model and original random forest model have similar performance, the original model even have smaller rmse in the testing data, there are two potential reasons to explain why this could happen:\n",
    "\n",
    "1. We applied random search in the parameter optimization, we can not confirm that the parameter we used in the final model is the best solution. However, since the tuning is very time consuming, we will accept this result.\n",
    "\n",
    "2. From the the table we can see that the final model have smaller mean and smaller standar diviation in CV score, which means this model is more stable, in another word, it may performs a little bit worse than the default model, but if we test more data, its overall performance will be better."
   ]
  },
  {
   "cell_type": "markdown",
   "metadata": {},
   "source": [
    "----"
   ]
  },
  {
   "cell_type": "markdown",
   "metadata": {},
   "source": [
    "# Conclusion\n",
    "\n",
    "In this project, we dived into the *used BMW car sales data* and did many studies. In the first part, we visualized the data and conduct aregression analysis. We Obtain a more comprehensive and in-depth understanding of the the car market. We also find some interesting facts in the data, for example, BMW has only one electric car on sale, and it's not as expensive as we thought.\n",
    "\n",
    "In the second part, we built different machine learning models to predict the price of the car, after comparing the performance of linear regression, polynomial regression and random forest, we found the random forest model has the best performance, we tuned the model parameters with random search and test it on the testing data. The result is satisfying. We reduce the RMSE from 4031 to 2378, this is a huge improvement. \n",
    "\n",
    "This model can also be used to predict the price range of a BMW car before we go to the 4S shop and talk with the car dealer. In fact, some car selling Apps use machine technics to conduct valuation. This procedure can also be applied to other products or brands, this is how machine learning and big data make business more transparent and convenient."
   ]
  },
  {
   "cell_type": "markdown",
   "metadata": {},
   "source": [
    "## Thank you!"
   ]
  },
  {
   "cell_type": "markdown",
   "metadata": {},
   "source": [
    "  "
   ]
  }
 ],
 "metadata": {
  "kernelspec": {
   "display_name": "Python 3",
   "language": "python",
   "name": "python3"
  },
  "language_info": {
   "codemirror_mode": {
    "name": "ipython",
    "version": 3
   },
   "file_extension": ".py",
   "mimetype": "text/x-python",
   "name": "python",
   "nbconvert_exporter": "python",
   "pygments_lexer": "ipython3",
   "version": "3.8.3"
  }
 },
 "nbformat": 4,
 "nbformat_minor": 4
}
